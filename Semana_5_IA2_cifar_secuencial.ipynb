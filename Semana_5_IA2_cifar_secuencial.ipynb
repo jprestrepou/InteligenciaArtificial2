{
  "cells": [
    {
      "cell_type": "code",
      "execution_count": null,
      "metadata": {
        "colab": {
          "base_uri": "https://localhost:8080/"
        },
        "id": "KptRyGQpThIn",
        "outputId": "a734fb29-9efe-4e02-ae42-f028667f6d8a"
      },
      "outputs": [
        {
          "output_type": "stream",
          "name": "stdout",
          "text": [
            "Downloading data from https://www.cs.toronto.edu/~kriz/cifar-10-python.tar.gz\n",
            "170498071/170498071 [==============================] - 5s 0us/step\n"
          ]
        }
      ],
      "source": [
        "from keras.datasets import cifar10\n",
        "from keras.layers import Dense, Activation\n",
        "from keras.models import Sequential\n",
        "from keras.utils import to_categorical\n",
        "\n",
        "(X_train, Y_train), (X_test, Y_test) = cifar10.load_data()\n",
        "\n",
        "X_train = X_train.reshape(50000, 3072)\n",
        "X_test = X_test.reshape(10000, 3072)\n",
        "\n",
        "classes = 10\n",
        "Y_train = to_categorical(Y_train, classes)\n",
        "Y_test = to_categorical(Y_test, classes)\n",
        "\n",
        "input_size = 3072\n",
        "batch_size = 100\n",
        "epochs = 1000\n",
        "\n",
        "model = Sequential([\n",
        "    Dense(1024, input_dim=input_size),\n",
        "    Activation('relu'),\n",
        "    Dense(512),\n",
        "    Activation('relu'),\n",
        "    Dense(512),\n",
        "    Activation('sigmoid'),\n",
        "    Dense(classes),\n",
        "    Activation('softmax')\n",
        "])\n",
        "\n",
        "model.compile(loss='categorical_crossentropy', metrics=['accuracy'], optimizer='sgd')\n",
        "\n",
        "model.fit(X_train, Y_train, batch_size=batch_size, epochs=epochs, validation_data=(X_test, Y_test), verbose=1)"
      ]
    },
    {
      "cell_type": "code",
      "execution_count": null,
      "metadata": {
        "id": "mC2cp2KTJJ2k"
      },
      "outputs": [],
      "source": [
        "import matplotlib.pyplot as plt\n",
        "import matplotlib.cm as cm\n",
        "import matplotlib.gridspec as gridspec\n",
        "import numpy\n",
        "import random\n",
        "\n",
        "fig = plt.figure()\n",
        "outer_grid = gridspec.GridSpec(10, 10, wspace=0.0, hspace=0.0)\n",
        "\n",
        "weights = model.layers[0].get_weights()\n",
        "\n",
        "w = weights[0].T\n",
        "\n",
        "for i, neuron in enumerate(random.sample(range(0, 1023), 100)):\n",
        "    ax = plt.Subplot(fig, outer_grid[i])\n",
        "    ax.imshow(numpy.mean(numpy.reshape(w[i], (32, 32, 3)), axis=2), cmap=cm.Greys_r)\n",
        "    ax.set_xticks([])\n",
        "    ax.set_yticks([])\n",
        "    fig.add_subplot(ax)\n",
        "\n",
        "plt.show()"
      ]
    }
  ],
  "metadata": {
    "accelerator": "GPU",
    "colab": {
      "provenance": []
    },
    "kernelspec": {
      "display_name": "Python 3",
      "name": "python3"
    }
  },
  "nbformat": 4,
  "nbformat_minor": 0
}