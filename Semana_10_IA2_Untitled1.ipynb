{
  "nbformat": 4,
  "nbformat_minor": 0,
  "metadata": {
    "colab": {
      "provenance": []
    },
    "kernelspec": {
      "name": "python3",
      "display_name": "Python 3"
    },
    "language_info": {
      "name": "python"
    }
  },
  "cells": [
    {
      "cell_type": "code",
      "source": [
        "from gensim.corpora import WikiCorpus\n",
        "from gensim.test.utils import datapath\n",
        "\n",
        "path_to_wiki_dump = datapath(\"enwiki-latest-pages-articles1.xml-p000000010p000030302-shortened.bz2\")\n",
        "# Ejemplo de acceso al Corpus de Wikipedia\n",
        "wiki_corpus = WikiCorpus(path_to_wiki_dump)  # Reemplaza con el archivo adecuado\n",
        "corpus = []\n",
        "for i, text in enumerate(wiki_corpus.get_texts()):\n",
        "  corpus.append(\" \".join(text))\n"
      ],
      "metadata": {
        "id": "8rx_C2tN4t67"
      },
      "execution_count": 17,
      "outputs": []
    },
    {
      "cell_type": "code",
      "source": [
        "import requests\n",
        "\n",
        "# URL del libro \"Don Quijote de la Mancha\" en Proyecto Gutenberg\n",
        "url = \"https://www.gutenberg.org/files/2000/2000-0.txt\"\n",
        "\n",
        "# Realizar una solicitud HTTP para obtener el contenido del libro\n",
        "response = requests.get(url)\n",
        "\n",
        "if response.status_code == 200:\n",
        "    # Decodificar el contenido como texto en español\n",
        "    content = response.content.decode(\"utf-8\")\n",
        "\n",
        "    # Dividir el contenido en líneas y mostrar las primeras líneas\n",
        "    lines = content.split('\\n')\n",
        "    print(\"Las primeras líneas de 'Don Quijote de la Mancha':\")\n",
        "    for i in range(200):\n",
        "        print(lines[i])\n",
        "else:\n",
        "    print(\"No se pudo acceder al libro en Proyecto Gutenberg.\")\n",
        "\n",
        "\n"
      ],
      "metadata": {
        "id": "eTeOthRL_ho4"
      },
      "execution_count": null,
      "outputs": []
    },
    {
      "cell_type": "code",
      "source": [
        "import tensorflow as tf\n",
        "import numpy as np\n",
        "import re\n",
        "import string\n",
        "from tensorflow.keras.preprocessing.text import Tokenizer\n",
        "from tensorflow.keras.preprocessing.sequence import pad_sequences\n",
        "\n",
        "\"\"\"\n",
        "# Leer el corpus (asume que tienes un corpus llamado \"corpus.txt\")\n",
        "with open('corpus.txt', 'r', encoding='utf-8') as file:\n",
        "    corpus_text = file.read()\n",
        "\"\"\"\n",
        "\n",
        "# Preprocesamiento del texto\n",
        "def preprocess_text(text):\n",
        "    text = text.lower()  # Convertir a minúsculas\n",
        "    text = re.sub(f\"[{re.escape(string.punctuation)}]\", \"\", text)  # Eliminar puntuación\n",
        "    text = re.sub(r'\\s+', ' ', text)  # Eliminar espacios en blanco adicionales\n",
        "    return text\n",
        "\n",
        "corpus_text = preprocess_text(corpus[0])\n",
        "\n",
        "# Tokenización\n",
        "tokenizer = Tokenizer()\n",
        "tokenizer.fit_on_texts([corpus_text])\n",
        "total_words = len(tokenizer.word_index) + 1  # +1 para el token de padding\n",
        "\n",
        "# Crear secuencias de entrada y objetivo\n",
        "input_sequences = []\n",
        "for line in corpus_text.split('\\n'):\n",
        "    token_list = tokenizer.texts_to_sequences([line])[0]\n",
        "    for i in range(1, len(token_list)):\n",
        "        n_gram_sequence = token_list[:i+1]\n",
        "        input_sequences.append(n_gram_sequence)\n",
        "\n",
        "# Padding\n",
        "max_sequence_length = 10 # max([len(seq) for seq in input_sequences])\n",
        "input_sequences = pad_sequences(input_sequences, maxlen=max_sequence_length, padding='pre')\n",
        "\n",
        "# Crear conjuntos de entrada y objetivo\n",
        "X = input_sequences[:, :-1]\n",
        "y = input_sequences[:, -1]\n",
        "\n",
        "\"\"\"\n",
        "# Convertir y en codificación one-hot\n",
        "y = tf.keras.utils.to_categorical(y, num_classes=total_words)\n",
        "\n",
        "# Construir el modelo de lenguaje\n",
        "model = tf.keras.Sequential([\n",
        "    tf.keras.layers.Embedding(total_words, 100, input_length=max_sequence_length-1),\n",
        "    tf.keras.layers.LSTM(150),\n",
        "    tf.keras.layers.Dense(total_words, activation='softmax')\n",
        "])\n",
        "\n",
        "model.compile(loss='categorical_crossentropy', optimizer='adam')\n",
        "\n",
        "# Entrenar el modelo\n",
        "model.fit(X, y, epochs=100, verbose=1)\n",
        "\n",
        "# Generar texto\n",
        "seed_text = \"inicio de tu frase\"\n",
        "next_words = 20\n",
        "\n",
        "for _ in range(next_words):\n",
        "    token_list = tokenizer.texts_to_sequences([seed_text])[0]\n",
        "    token_list = pad_sequences([token_list], maxlen=max_sequence_length-1, padding='pre')\n",
        "    predicted = model.predict(token_list, verbose=0)\n",
        "    predicted_word = tokenizer.index_word[np.argmax(predicted)]\n",
        "    seed_text += \" \" + predicted_word\n",
        "\n",
        "print(seed_text)\n",
        "\"\"\""
      ],
      "metadata": {
        "colab": {
          "base_uri": "https://localhost:8080/",
          "height": 122
        },
        "id": "PPQkrIYQ-6EX",
        "outputId": "ba434ddd-1aa2-45dc-c6b7-9dbdbc2c5525"
      },
      "execution_count": 43,
      "outputs": [
        {
          "output_type": "execute_result",
          "data": {
            "text/plain": [
              "'\\n# Convertir y en codificación one-hot\\ny = tf.keras.utils.to_categorical(y, num_classes=total_words)\\n\\n# Construir el modelo de lenguaje\\nmodel = tf.keras.Sequential([\\n    tf.keras.layers.Embedding(total_words, 100, input_length=max_sequence_length-1),\\n    tf.keras.layers.LSTM(150),\\n    tf.keras.layers.Dense(total_words, activation=\\'softmax\\')\\n])\\n\\nmodel.compile(loss=\\'categorical_crossentropy\\', optimizer=\\'adam\\')\\n\\n# Entrenar el modelo\\nmodel.fit(X, y, epochs=100, verbose=1)\\n\\n# Generar texto\\nseed_text = \"inicio de tu frase\"\\nnext_words = 20\\n\\nfor _ in range(next_words):\\n    token_list = tokenizer.texts_to_sequences([seed_text])[0]\\n    token_list = pad_sequences([token_list], maxlen=max_sequence_length-1, padding=\\'pre\\')\\n    predicted = model.predict(token_list, verbose=0)\\n    predicted_word = tokenizer.index_word[np.argmax(predicted)]\\n    seed_text += \" \" + predicted_word\\n\\nprint(seed_text)\\n'"
            ],
            "application/vnd.google.colaboratory.intrinsic+json": {
              "type": "string"
            }
          },
          "metadata": {},
          "execution_count": 43
        }
      ]
    },
    {
      "cell_type": "code",
      "source": [
        "!pip install textacy\n",
        "import textacy.datasets\n",
        "wp = textacy.datasets.Wikipedia(lang=\"en\", version=\"20220620\")\n",
        "wp.download()\n",
        "wp.info"
      ],
      "metadata": {
        "id": "7EJk6TNa-GOI"
      },
      "execution_count": null,
      "outputs": []
    },
    {
      "cell_type": "code",
      "source": [
        "y"
      ],
      "metadata": {
        "colab": {
          "base_uri": "https://localhost:8080/"
        },
        "id": "CrhRwz6hCSa3",
        "outputId": "482e4b79-1676-49bb-9d5b-1a65862dd038"
      },
      "execution_count": 44,
      "outputs": [
        {
          "output_type": "execute_result",
          "data": {
            "text/plain": [
              "array([  11,   48,  117, ..., 2534,    3, 1003], dtype=int32)"
            ]
          },
          "metadata": {},
          "execution_count": 44
        }
      ]
    }
  ]
}