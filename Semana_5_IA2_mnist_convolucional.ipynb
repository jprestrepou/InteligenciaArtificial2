{
  "cells": [
    {
      "cell_type": "code",
      "execution_count": null,
      "metadata": {
        "colab": {
          "base_uri": "https://localhost:8080/"
        },
        "id": "PEBlPuPnjyWE",
        "outputId": "1d2e090b-7705-4b40-9b70-81db121d2ed6"
      },
      "outputs": [
        {
          "output_type": "stream",
          "name": "stdout",
          "text": [
            "Model: \"sequential_1\"\n",
            "_________________________________________________________________\n",
            " Layer (type)                Output Shape              Param #   \n",
            "=================================================================\n",
            " conv2d_2 (Conv2D)           (None, 26, 26, 32)        320       \n",
            "                                                                 \n",
            " activation_4 (Activation)   (None, 26, 26, 32)        0         \n",
            "                                                                 \n",
            " conv2d_3 (Conv2D)           (None, 24, 24, 32)        9248      \n",
            "                                                                 \n",
            " activation_5 (Activation)   (None, 24, 24, 32)        0         \n",
            "                                                                 \n",
            " max_pooling2d_1 (MaxPooling  (None, 12, 12, 32)       0         \n",
            " 2D)                                                             \n",
            "                                                                 \n",
            " flatten_1 (Flatten)         (None, 4608)              0         \n",
            "                                                                 \n",
            " dense_2 (Dense)             (None, 64)                294976    \n",
            "                                                                 \n",
            " activation_6 (Activation)   (None, 64)                0         \n",
            "                                                                 \n",
            " dense_3 (Dense)             (None, 10)                650       \n",
            "                                                                 \n",
            " activation_7 (Activation)   (None, 10)                0         \n",
            "                                                                 \n",
            "=================================================================\n",
            "Total params: 305,194\n",
            "Trainable params: 305,194\n",
            "Non-trainable params: 0\n",
            "_________________________________________________________________\n",
            "None\n",
            "5400/5400 [==============================] - 22s 4ms/step - loss: 5.1957 - accuracy: 0.4129 - val_loss: 1.8002 - val_accuracy: 0.6442\n",
            "313/313 [==============================] - 1s 3ms/step - loss: 1.9767 - accuracy: 0.6286\n",
            "Test accuracy: 0.628600001335144\n",
            "El tiempo de ejecucion fue: 23.817424297332764\n"
          ]
        }
      ],
      "source": [
        "from time import time\n",
        "from keras.datasets import mnist\n",
        "from keras.models import Sequential\n",
        "from keras.layers import Dense, Activation\n",
        "from keras.layers import Convolution2D, MaxPooling2D\n",
        "from keras.layers import Flatten\n",
        "from keras.utils import np_utils\n",
        "\n",
        "tiempo_inicial = time()\n",
        "(X_train, Y_train), (X_test, Y_test) = mnist.load_data()\n",
        "X_train = X_train.reshape(60000, 28, 28, 1)\n",
        "X_test = X_test.reshape(10000, 28, 28, 1)\n",
        "Y_train = np_utils.to_categorical(Y_train, 10)\n",
        "Y_test = np_utils.to_categorical(Y_test, 10)\n",
        "\n",
        "model = Sequential([Convolution2D(filters=32,\n",
        "                                  kernel_size=(3, 3),\n",
        "                                  input_shape=(28, 28, 1)), # first conv layer\n",
        "                    Activation('relu'),\n",
        "                    Convolution2D(filters=32,\n",
        "                                  kernel_size=(3, 3)), # second conv layer\n",
        "                    Activation('relu'),\n",
        "                    MaxPooling2D(pool_size=(2, 2)), # max pooling layer\n",
        "                    Flatten(), # flatten the output tensor\n",
        "                    Dense(64), # fully-connected hidden layer\n",
        "                    Activation('relu'),\n",
        "                    Dense(10), # output layer\n",
        "                    Activation('softmax')])\n",
        "print(model.summary())\n",
        "model.compile(loss='categorical_crossentropy', metrics=['accuracy'], optimizer='adadelta')\n",
        "model.fit(X_train, Y_train, batch_size=10, epochs=1, validation_split=0.1, verbose=1)\n",
        "score = model.evaluate(X_test, Y_test, verbose=1)\n",
        "print('Test accuracy:', score[1])\n",
        "\n",
        "tiempo_final = time()\n",
        "tiempo_ejecucion = tiempo_final - tiempo_inicial\n",
        "print ('El tiempo de ejecucion fue:',tiempo_ejecucion)"
      ]
    },
    {
      "cell_type": "markdown",
      "metadata": {
        "id": "0gYAD3HJ0g61"
      },
      "source": [
        "Tiempo de ejecucion con CPU: 844.8924615383148\n",
        "\n",
        "Tiempo de ejecucion con GPU: 47.8739800453186\n",
        "\n",
        "Comparacion de resultados:\n",
        "Secuencial:\n",
        "\n",
        "loss: 0.2417 - acc: 0.9336\n",
        "\n",
        "Convolucional:\n",
        "\n",
        "loss: 8.0932e-04 - acc: 0.9997 - val_loss: 0.0758 - val_acc: 0.9897\n",
        "\n"
      ]
    }
  ],
  "metadata": {
    "accelerator": "GPU",
    "colab": {
      "provenance": []
    },
    "kernelspec": {
      "display_name": "Python 3",
      "name": "python3"
    },
    "language_info": {
      "codemirror_mode": {
        "name": "ipython",
        "version": 3
      },
      "file_extension": ".py",
      "mimetype": "text/x-python",
      "name": "python",
      "nbconvert_exporter": "python",
      "pygments_lexer": "ipython3",
      "version": "3.9.13"
    },
    "gpuClass": "standard"
  },
  "nbformat": 4,
  "nbformat_minor": 0
}