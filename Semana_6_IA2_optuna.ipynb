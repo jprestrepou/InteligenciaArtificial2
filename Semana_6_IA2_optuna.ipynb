{
  "nbformat": 4,
  "nbformat_minor": 0,
  "metadata": {
    "colab": {
      "provenance": []
    },
    "kernelspec": {
      "name": "python3",
      "display_name": "Python 3"
    },
    "language_info": {
      "name": "python"
    }
  },
  "cells": [
    {
      "cell_type": "code",
      "source": [
        "pip install optuna"
      ],
      "metadata": {
        "colab": {
          "base_uri": "https://localhost:8080/"
        },
        "id": "XEoiIu1xmCKK",
        "outputId": "b1ea88f1-3183-46c5-c25b-e626d2bcea2b"
      },
      "execution_count": 2,
      "outputs": [
        {
          "output_type": "stream",
          "name": "stdout",
          "text": [
            "Collecting optuna\n",
            "  Downloading optuna-3.5.0-py3-none-any.whl (413 kB)\n",
            "\u001b[2K     \u001b[90m━━━━━━━━━━━━━━━━━━━━━━━━━━━━━━━━━━━━━━━━\u001b[0m \u001b[32m413.4/413.4 kB\u001b[0m \u001b[31m5.1 MB/s\u001b[0m eta \u001b[36m0:00:00\u001b[0m\n",
            "\u001b[?25hCollecting alembic>=1.5.0 (from optuna)\n",
            "  Downloading alembic-1.13.1-py3-none-any.whl (233 kB)\n",
            "\u001b[2K     \u001b[90m━━━━━━━━━━━━━━━━━━━━━━━━━━━━━━━━━━━━━━━━\u001b[0m \u001b[32m233.4/233.4 kB\u001b[0m \u001b[31m8.5 MB/s\u001b[0m eta \u001b[36m0:00:00\u001b[0m\n",
            "\u001b[?25hCollecting colorlog (from optuna)\n",
            "  Downloading colorlog-6.8.2-py3-none-any.whl (11 kB)\n",
            "Requirement already satisfied: numpy in /usr/local/lib/python3.10/dist-packages (from optuna) (1.25.2)\n",
            "Requirement already satisfied: packaging>=20.0 in /usr/local/lib/python3.10/dist-packages (from optuna) (24.0)\n",
            "Requirement already satisfied: sqlalchemy>=1.3.0 in /usr/local/lib/python3.10/dist-packages (from optuna) (2.0.28)\n",
            "Requirement already satisfied: tqdm in /usr/local/lib/python3.10/dist-packages (from optuna) (4.66.2)\n",
            "Requirement already satisfied: PyYAML in /usr/local/lib/python3.10/dist-packages (from optuna) (6.0.1)\n",
            "Collecting Mako (from alembic>=1.5.0->optuna)\n",
            "  Downloading Mako-1.3.2-py3-none-any.whl (78 kB)\n",
            "\u001b[2K     \u001b[90m━━━━━━━━━━━━━━━━━━━━━━━━━━━━━━━━━━━━━━━━\u001b[0m \u001b[32m78.7/78.7 kB\u001b[0m \u001b[31m6.9 MB/s\u001b[0m eta \u001b[36m0:00:00\u001b[0m\n",
            "\u001b[?25hRequirement already satisfied: typing-extensions>=4 in /usr/local/lib/python3.10/dist-packages (from alembic>=1.5.0->optuna) (4.10.0)\n",
            "Requirement already satisfied: greenlet!=0.4.17 in /usr/local/lib/python3.10/dist-packages (from sqlalchemy>=1.3.0->optuna) (3.0.3)\n",
            "Requirement already satisfied: MarkupSafe>=0.9.2 in /usr/local/lib/python3.10/dist-packages (from Mako->alembic>=1.5.0->optuna) (2.1.5)\n",
            "Installing collected packages: Mako, colorlog, alembic, optuna\n",
            "Successfully installed Mako-1.3.2 alembic-1.13.1 colorlog-6.8.2 optuna-3.5.0\n"
          ]
        }
      ]
    },
    {
      "cell_type": "code",
      "source": [
        "import numpy as np\n",
        "import matplotlib.pyplot as plt\n",
        "import optuna\n",
        "import imageio\n",
        "from mpl_toolkits.mplot3d import Axes3D"
      ],
      "metadata": {
        "id": "hbpzYpsEnHyQ"
      },
      "execution_count": 10,
      "outputs": []
    },
    {
      "cell_type": "code",
      "source": [
        "def objective(trial):\n",
        "    x = trial.suggest_float('x', -10, 10)\n",
        "    return (x - 2) ** 2\n",
        "\n",
        "study = optuna.create_study()\n",
        "study.optimize(objective, n_trials=100)\n",
        "\n",
        "best_params = study.best_params\n",
        "print(\"Mejor valor de 'x':\", best_params[\"x\"])\n",
        "print(\"Valor mínimo encontrado:\", study.best_value)"
      ],
      "metadata": {
        "colab": {
          "base_uri": "https://localhost:8080/"
        },
        "id": "Uv_TjQkPmgnV",
        "outputId": "68fa597f-cd48-4b84-da2e-b70ea537734f"
      },
      "execution_count": 9,
      "outputs": [
        {
          "output_type": "stream",
          "name": "stderr",
          "text": [
            "[I 2024-03-13 21:01:41,642] A new study created in memory with name: no-name-5b7f1b8c-0fd3-4c12-9d8e-b0256e73c094\n",
            "[I 2024-03-13 21:01:41,648] Trial 0 finished with value: 116.24639332223607 and parameters: {'x': -8.781762069450247}. Best is trial 0 with value: 116.24639332223607.\n",
            "[I 2024-03-13 21:01:41,651] Trial 1 finished with value: 3.64676597388725 and parameters: {'x': 0.09034925342688638}. Best is trial 1 with value: 3.64676597388725.\n",
            "[I 2024-03-13 21:01:41,653] Trial 2 finished with value: 110.28741146785198 and parameters: {'x': -8.501781347364455}. Best is trial 1 with value: 3.64676597388725.\n",
            "[I 2024-03-13 21:01:41,655] Trial 3 finished with value: 24.956292951120705 and parameters: {'x': 6.995627383134245}. Best is trial 1 with value: 3.64676597388725.\n",
            "[I 2024-03-13 21:01:41,659] Trial 4 finished with value: 12.71464890054657 and parameters: {'x': 5.565760634219096}. Best is trial 1 with value: 3.64676597388725.\n",
            "[I 2024-03-13 21:01:41,661] Trial 5 finished with value: 29.662087050891426 and parameters: {'x': -3.4462911279963198}. Best is trial 1 with value: 3.64676597388725.\n",
            "[I 2024-03-13 21:01:41,664] Trial 6 finished with value: 24.502169294351713 and parameters: {'x': 6.949966595276347}. Best is trial 1 with value: 3.64676597388725.\n",
            "[I 2024-03-13 21:01:41,668] Trial 7 finished with value: 33.12582658664928 and parameters: {'x': -3.755504025422038}. Best is trial 1 with value: 3.64676597388725.\n",
            "[I 2024-03-13 21:01:41,670] Trial 8 finished with value: 0.0008704201637568648 and parameters: {'x': 1.9704971160095006}. Best is trial 8 with value: 0.0008704201637568648.\n",
            "[I 2024-03-13 21:01:41,672] Trial 9 finished with value: 2.8141737106621574 and parameters: {'x': 3.6775499130166462}. Best is trial 8 with value: 0.0008704201637568648.\n",
            "[I 2024-03-13 21:01:41,683] Trial 10 finished with value: 0.15687992555173605 and parameters: {'x': 1.6039192941435596}. Best is trial 8 with value: 0.0008704201637568648.\n",
            "[I 2024-03-13 21:01:41,701] Trial 11 finished with value: 0.5301525550829608 and parameters: {'x': 1.2718842433493416}. Best is trial 8 with value: 0.0008704201637568648.\n",
            "[I 2024-03-13 21:01:41,710] Trial 12 finished with value: 59.47845527230985 and parameters: {'x': 9.712227646556464}. Best is trial 8 with value: 0.0008704201637568648.\n",
            "[I 2024-03-13 21:01:41,719] Trial 13 finished with value: 24.07430312038196 and parameters: {'x': -2.9065571555197396}. Best is trial 8 with value: 0.0008704201637568648.\n",
            "[I 2024-03-13 21:01:41,729] Trial 14 finished with value: 0.7894108993896849 and parameters: {'x': 2.8884879849439073}. Best is trial 8 with value: 0.0008704201637568648.\n",
            "[I 2024-03-13 21:01:41,738] Trial 15 finished with value: 8.650392499522079 and parameters: {'x': -0.9411549601342122}. Best is trial 8 with value: 0.0008704201637568648.\n",
            "[I 2024-03-13 21:01:41,748] Trial 16 finished with value: 0.4342981054261263 and parameters: {'x': 2.659012978192483}. Best is trial 8 with value: 0.0008704201637568648.\n",
            "[I 2024-03-13 21:01:41,757] Trial 17 finished with value: 57.861486706531586 and parameters: {'x': -5.606673826747903}. Best is trial 8 with value: 0.0008704201637568648.\n",
            "[I 2024-03-13 21:01:41,768] Trial 18 finished with value: 8.90925956715181 and parameters: {'x': -0.9848382815743655}. Best is trial 8 with value: 0.0008704201637568648.\n",
            "[I 2024-03-13 21:01:41,777] Trial 19 finished with value: 8.374722177107218 and parameters: {'x': 4.893911224814476}. Best is trial 8 with value: 0.0008704201637568648.\n",
            "[I 2024-03-13 21:01:41,787] Trial 20 finished with value: 0.19719713781942425 and parameters: {'x': 1.5559311564414542}. Best is trial 8 with value: 0.0008704201637568648.\n",
            "[I 2024-03-13 21:01:41,797] Trial 21 finished with value: 0.3774125190502297 and parameters: {'x': 1.3856609087399454}. Best is trial 8 with value: 0.0008704201637568648.\n",
            "[I 2024-03-13 21:01:41,806] Trial 22 finished with value: 1.5647665195686993 and parameters: {'x': 0.7490937207093812}. Best is trial 8 with value: 0.0008704201637568648.\n",
            "[I 2024-03-13 21:01:41,816] Trial 23 finished with value: 14.234474643932648 and parameters: {'x': -1.7728602735766201}. Best is trial 8 with value: 0.0008704201637568648.\n",
            "[I 2024-03-13 21:01:41,827] Trial 24 finished with value: 5.282028129701035 and parameters: {'x': 4.298266331324774}. Best is trial 8 with value: 0.0008704201637568648.\n",
            "[I 2024-03-13 21:01:41,838] Trial 25 finished with value: 0.028168998649222437 and parameters: {'x': 2.1678362256761705}. Best is trial 8 with value: 0.0008704201637568648.\n",
            "[I 2024-03-13 21:01:41,848] Trial 26 finished with value: 16.875776734260093 and parameters: {'x': 6.108013721284301}. Best is trial 8 with value: 0.0008704201637568648.\n",
            "[I 2024-03-13 21:01:41,859] Trial 27 finished with value: 0.6244576029372889 and parameters: {'x': 2.790226298560918}. Best is trial 8 with value: 0.0008704201637568648.\n",
            "[I 2024-03-13 21:01:41,869] Trial 28 finished with value: 58.19339331718409 and parameters: {'x': 9.628459432754696}. Best is trial 8 with value: 0.0008704201637568648.\n",
            "[I 2024-03-13 21:01:41,878] Trial 29 finished with value: 45.33890777399109 and parameters: {'x': -4.733417243420393}. Best is trial 8 with value: 0.0008704201637568648.\n",
            "[I 2024-03-13 21:01:41,888] Trial 30 finished with value: 15.98657855384695 and parameters: {'x': -1.9983219672566328}. Best is trial 8 with value: 0.0008704201637568648.\n",
            "[I 2024-03-13 21:01:41,900] Trial 31 finished with value: 0.1677075498239026 and parameters: {'x': 2.409521122561343}. Best is trial 8 with value: 0.0008704201637568648.\n",
            "[I 2024-03-13 21:01:41,913] Trial 32 finished with value: 4.069300200866996 and parameters: {'x': -0.01725065395131198}. Best is trial 8 with value: 0.0008704201637568648.\n",
            "[I 2024-03-13 21:01:41,926] Trial 33 finished with value: 0.13576350670801984 and parameters: {'x': 2.3684609975397937}. Best is trial 8 with value: 0.0008704201637568648.\n",
            "[I 2024-03-13 21:01:41,938] Trial 34 finished with value: 3.931507230848483 and parameters: {'x': 3.982802872412808}. Best is trial 8 with value: 0.0008704201637568648.\n",
            "[I 2024-03-13 21:01:41,951] Trial 35 finished with value: 3.62291629797043 and parameters: {'x': 0.09660400915352607}. Best is trial 8 with value: 0.0008704201637568648.\n",
            "[I 2024-03-13 21:01:41,962] Trial 36 finished with value: 39.69067943660288 and parameters: {'x': 8.30005392330914}. Best is trial 8 with value: 0.0008704201637568648.\n",
            "[I 2024-03-13 21:01:41,978] Trial 37 finished with value: 94.60385659192646 and parameters: {'x': -7.726451387424216}. Best is trial 8 with value: 0.0008704201637568648.\n",
            "[I 2024-03-13 21:01:41,989] Trial 38 finished with value: 13.846465276568908 and parameters: {'x': 5.721083884645562}. Best is trial 8 with value: 0.0008704201637568648.\n",
            "[I 2024-03-13 21:01:42,002] Trial 39 finished with value: 0.015054406329841117 and parameters: {'x': 2.1226963990092664}. Best is trial 8 with value: 0.0008704201637568648.\n",
            "[I 2024-03-13 21:01:42,014] Trial 40 finished with value: 2.4382568177391 and parameters: {'x': 3.561491856443414}. Best is trial 8 with value: 0.0008704201637568648.\n",
            "[I 2024-03-13 21:01:42,023] Trial 41 finished with value: 0.004182141936524243 and parameters: {'x': 1.9353305177342184}. Best is trial 8 with value: 0.0008704201637568648.\n",
            "[I 2024-03-13 21:01:42,033] Trial 42 finished with value: 3.047379727721633 and parameters: {'x': 0.2543254233043224}. Best is trial 8 with value: 0.0008704201637568648.\n",
            "[I 2024-03-13 21:01:42,047] Trial 43 finished with value: 0.006677986138308095 and parameters: {'x': 1.9182810539819064}. Best is trial 8 with value: 0.0008704201637568648.\n",
            "[I 2024-03-13 21:01:42,059] Trial 44 finished with value: 8.651402630829647 and parameters: {'x': 4.941326678699537}. Best is trial 8 with value: 0.0008704201637568648.\n",
            "[I 2024-03-13 21:01:42,069] Trial 45 finished with value: 7.832313873228198 and parameters: {'x': -0.798627140801039}. Best is trial 8 with value: 0.0008704201637568648.\n",
            "[I 2024-03-13 21:01:42,083] Trial 46 finished with value: 23.669374986990814 and parameters: {'x': 6.865118188388728}. Best is trial 8 with value: 0.0008704201637568648.\n",
            "[I 2024-03-13 21:01:42,097] Trial 47 finished with value: 1.738870719449132 and parameters: {'x': 3.3186624736638}. Best is trial 8 with value: 0.0008704201637568648.\n",
            "[I 2024-03-13 21:01:42,110] Trial 48 finished with value: 0.018467723887461374 and parameters: {'x': 2.135896003942211}. Best is trial 8 with value: 0.0008704201637568648.\n",
            "[I 2024-03-13 21:01:42,125] Trial 49 finished with value: 1.6236652057026697 and parameters: {'x': 0.7257687785559994}. Best is trial 8 with value: 0.0008704201637568648.\n",
            "[I 2024-03-13 21:01:42,138] Trial 50 finished with value: 5.962051584929949 and parameters: {'x': 4.441731267959263}. Best is trial 8 with value: 0.0008704201637568648.\n",
            "[I 2024-03-13 21:01:42,149] Trial 51 finished with value: 0.2628269125307229 and parameters: {'x': 1.4873335270073507}. Best is trial 8 with value: 0.0008704201637568648.\n",
            "[I 2024-03-13 21:01:42,159] Trial 52 finished with value: 0.010007981366745536 and parameters: {'x': 1.899960101125873}. Best is trial 8 with value: 0.0008704201637568648.\n",
            "[I 2024-03-13 21:01:42,170] Trial 53 finished with value: 1.4980806733887484 and parameters: {'x': 3.2239610587713763}. Best is trial 8 with value: 0.0008704201637568648.\n",
            "[I 2024-03-13 21:01:42,181] Trial 54 finished with value: 0.00666868755976435 and parameters: {'x': 2.0816620325473494}. Best is trial 8 with value: 0.0008704201637568648.\n",
            "[I 2024-03-13 21:01:42,192] Trial 55 finished with value: 6.548426815492367 and parameters: {'x': -0.558989412930887}. Best is trial 8 with value: 0.0008704201637568648.\n",
            "[I 2024-03-13 21:01:42,203] Trial 56 finished with value: 1.1459190592702786 and parameters: {'x': 0.9295239099959876}. Best is trial 8 with value: 0.0008704201637568648.\n",
            "[I 2024-03-13 21:01:42,214] Trial 57 finished with value: 0.0032659363528112113 and parameters: {'x': 1.9428516286075341}. Best is trial 8 with value: 0.0008704201637568648.\n",
            "[I 2024-03-13 21:01:42,225] Trial 58 finished with value: 15.725086345617495 and parameters: {'x': -1.9654868989340382}. Best is trial 8 with value: 0.0008704201637568648.\n",
            "[I 2024-03-13 21:01:42,236] Trial 59 finished with value: 9.229500004162697 and parameters: {'x': 5.038009217260984}. Best is trial 8 with value: 0.0008704201637568648.\n",
            "[I 2024-03-13 21:01:42,247] Trial 60 finished with value: 0.19178517093407266 and parameters: {'x': 1.5620671616171349}. Best is trial 8 with value: 0.0008704201637568648.\n",
            "[I 2024-03-13 21:01:42,262] Trial 61 finished with value: 0.0016021837520676014 and parameters: {'x': 1.9599727124068143}. Best is trial 8 with value: 0.0008704201637568648.\n",
            "[I 2024-03-13 21:01:42,275] Trial 62 finished with value: 2.083001597431422 and parameters: {'x': 0.5567392482882998}. Best is trial 8 with value: 0.0008704201637568648.\n",
            "[I 2024-03-13 21:01:42,288] Trial 63 finished with value: 3.78860260212423 and parameters: {'x': 3.9464333027679706}. Best is trial 8 with value: 0.0008704201637568648.\n",
            "[I 2024-03-13 21:01:42,300] Trial 64 finished with value: 0.8862013788737795 and parameters: {'x': 2.9413826952274933}. Best is trial 8 with value: 0.0008704201637568648.\n",
            "[I 2024-03-13 21:01:42,313] Trial 65 finished with value: 5.345914788521495 and parameters: {'x': -0.3121234371290593}. Best is trial 8 with value: 0.0008704201637568648.\n",
            "[I 2024-03-13 21:01:42,324] Trial 66 finished with value: 0.02647367805378264 and parameters: {'x': 1.8372926613401146}. Best is trial 8 with value: 0.0008704201637568648.\n",
            "[I 2024-03-13 21:01:42,334] Trial 67 finished with value: 11.364068515426036 and parameters: {'x': -1.3710634101757917}. Best is trial 8 with value: 0.0008704201637568648.\n",
            "[I 2024-03-13 21:01:42,345] Trial 68 finished with value: 1.0636873537829439 and parameters: {'x': 0.9686478032296901}. Best is trial 8 with value: 0.0008704201637568648.\n",
            "[I 2024-03-13 21:01:42,356] Trial 69 finished with value: 0.9121555438103874 and parameters: {'x': 2.955068345099128}. Best is trial 8 with value: 0.0008704201637568648.\n",
            "[I 2024-03-13 21:01:42,371] Trial 70 finished with value: 0.5701650174653798 and parameters: {'x': 1.2449072788952473}. Best is trial 8 with value: 0.0008704201637568648.\n",
            "[I 2024-03-13 21:01:42,386] Trial 71 finished with value: 0.00096334033419159 and parameters: {'x': 2.0310377243719895}. Best is trial 8 with value: 0.0008704201637568648.\n",
            "[I 2024-03-13 21:01:42,398] Trial 72 finished with value: 0.20216600659552744 and parameters: {'x': 2.449628743070911}. Best is trial 8 with value: 0.0008704201637568648.\n",
            "[I 2024-03-13 21:01:42,409] Trial 73 finished with value: 2.5176329763647867 and parameters: {'x': 3.5867050691180093}. Best is trial 8 with value: 0.0008704201637568648.\n",
            "[I 2024-03-13 21:01:42,421] Trial 74 finished with value: 0.08669946995938596 and parameters: {'x': 1.705552262770817}. Best is trial 8 with value: 0.0008704201637568648.\n",
            "[I 2024-03-13 21:01:42,431] Trial 75 finished with value: 3.0876360060753645 and parameters: {'x': 0.24283296011011957}. Best is trial 8 with value: 0.0008704201637568648.\n",
            "[I 2024-03-13 21:01:42,441] Trial 76 finished with value: 0.5906587213651123 and parameters: {'x': 2.7685432462556108}. Best is trial 8 with value: 0.0008704201637568648.\n",
            "[I 2024-03-13 21:01:42,451] Trial 77 finished with value: 5.70879696465389 and parameters: {'x': 4.389308888497653}. Best is trial 8 with value: 0.0008704201637568648.\n",
            "[I 2024-03-13 21:01:42,465] Trial 78 finished with value: 0.010087619684502391 and parameters: {'x': 2.1004371429527064}. Best is trial 8 with value: 0.0008704201637568648.\n",
            "[I 2024-03-13 21:01:42,476] Trial 79 finished with value: 0.9596494462959966 and parameters: {'x': 1.0203830104086615}. Best is trial 8 with value: 0.0008704201637568648.\n",
            "[I 2024-03-13 21:01:42,487] Trial 80 finished with value: 4.147695661888057 and parameters: {'x': -0.03658922266814943}. Best is trial 8 with value: 0.0008704201637568648.\n",
            "[I 2024-03-13 21:01:42,498] Trial 81 finished with value: 0.0021107174372322337 and parameters: {'x': 2.0459425449581565}. Best is trial 8 with value: 0.0008704201637568648.\n",
            "[I 2024-03-13 21:01:42,510] Trial 82 finished with value: 1.8590254652209577 and parameters: {'x': 3.3634608411028744}. Best is trial 8 with value: 0.0008704201637568648.\n",
            "[I 2024-03-13 21:01:42,521] Trial 83 finished with value: 0.25353866613666853 and parameters: {'x': 2.5035262318257794}. Best is trial 8 with value: 0.0008704201637568648.\n",
            "[I 2024-03-13 21:01:42,532] Trial 84 finished with value: 0.09128235889023728 and parameters: {'x': 1.697870294591483}. Best is trial 8 with value: 0.0008704201637568648.\n",
            "[I 2024-03-13 21:01:42,546] Trial 85 finished with value: 2.146639783119986 and parameters: {'x': 0.5348584426343008}. Best is trial 8 with value: 0.0008704201637568648.\n",
            "[I 2024-03-13 21:01:42,558] Trial 86 finished with value: 131.28164643500565 and parameters: {'x': -9.457820317800662}. Best is trial 8 with value: 0.0008704201637568648.\n",
            "[I 2024-03-13 21:01:42,572] Trial 87 finished with value: 3.2522728522537587 and parameters: {'x': 3.803405903354472}. Best is trial 8 with value: 0.0008704201637568648.\n",
            "[I 2024-03-13 21:01:42,583] Trial 88 finished with value: 0.00994491212351583 and parameters: {'x': 2.099724180234865}. Best is trial 8 with value: 0.0008704201637568648.\n",
            "[I 2024-03-13 21:01:42,595] Trial 89 finished with value: 22.421557785500365 and parameters: {'x': -2.7351407355537347}. Best is trial 8 with value: 0.0008704201637568648.\n",
            "[I 2024-03-13 21:01:42,605] Trial 90 finished with value: 0.8779073396320697 and parameters: {'x': 2.9369670963444072}. Best is trial 8 with value: 0.0008704201637568648.\n",
            "[I 2024-03-13 21:01:42,618] Trial 91 finished with value: 0.004295192532946539 and parameters: {'x': 1.9344622816010006}. Best is trial 8 with value: 0.0008704201637568648.\n",
            "[I 2024-03-13 21:01:42,631] Trial 92 finished with value: 0.16491675557734203 and parameters: {'x': 2.4060994405036062}. Best is trial 8 with value: 0.0008704201637568648.\n",
            "[I 2024-03-13 21:01:42,644] Trial 93 finished with value: 0.6028914284223335 and parameters: {'x': 1.223539164914074}. Best is trial 8 with value: 0.0008704201637568648.\n",
            "[I 2024-03-13 21:01:42,656] Trial 94 finished with value: 0.38077969731987704 and parameters: {'x': 1.3829265057386786}. Best is trial 8 with value: 0.0008704201637568648.\n",
            "[I 2024-03-13 21:01:42,670] Trial 95 finished with value: 0.0029707670200548697 and parameters: {'x': 2.0545047430968615}. Best is trial 8 with value: 0.0008704201637568648.\n",
            "[I 2024-03-13 21:01:42,683] Trial 96 finished with value: 2.190635979337395 and parameters: {'x': 0.519920279397966}. Best is trial 8 with value: 0.0008704201637568648.\n",
            "[I 2024-03-13 21:01:42,694] Trial 97 finished with value: 1.4871703222546688 and parameters: {'x': 3.219495929576917}. Best is trial 8 with value: 0.0008704201637568648.\n",
            "[I 2024-03-13 21:01:42,705] Trial 98 finished with value: 5.867232583387365 and parameters: {'x': 4.4222371030490315}. Best is trial 8 with value: 0.0008704201637568648.\n",
            "[I 2024-03-13 21:01:42,718] Trial 99 finished with value: 0.3784095221097481 and parameters: {'x': 2.6151499996827994}. Best is trial 8 with value: 0.0008704201637568648.\n"
          ]
        },
        {
          "output_type": "stream",
          "name": "stdout",
          "text": [
            "Mejor valor de 'x': 1.9704971160095006\n",
            "Valor mínimo encontrado: 0.0008704201637568648\n"
          ]
        }
      ]
    },
    {
      "cell_type": "code",
      "source": [
        "x_vals = np.linspace(-10, 10, 100)\n",
        "y_vals = np.array([(x - 2) ** 2 for x in x_vals])\n",
        "\n",
        "plt.plot(x_vals, y_vals, label='Objective Function')\n",
        "\n",
        "for trial in study.trials:\n",
        "    x = trial.params[\"x\"]\n",
        "    y = (x - 2) ** 2\n",
        "    plt.scatter(x, y, color='r')\n",
        "\n",
        "plt.xlabel('x')\n",
        "plt.ylabel('f(x)')\n",
        "plt.title('Optimization Process')\n",
        "plt.legend()\n",
        "plt.grid(True)\n",
        "\n",
        "plt.show()"
      ],
      "metadata": {
        "colab": {
          "base_uri": "https://localhost:8080/",
          "height": 472
        },
        "id": "rx7kxVNfnOK7",
        "outputId": "064bc777-3615-4bdb-8bcb-05d96fd046fa"
      },
      "execution_count": 7,
      "outputs": [
        {
          "output_type": "display_data",
          "data": {
            "text/plain": [
              "<Figure size 640x480 with 1 Axes>"
            ],
            "image/png": "[encoded data removed]"
          },
          "metadata": {}
        }
      ]
    },
    {
      "cell_type": "code",
      "source": [
        "x_vals = np.linspace(-10, 10, 100)\n",
        "y_vals = np.array([(x - 2) ** 2 for x in x_vals])\n",
        "\n",
        "images = []\n",
        "\n",
        "for i, trial in enumerate(study.trials):\n",
        "    x = trial.params[\"x\"]\n",
        "    y = (x - 2) ** 2\n",
        "\n",
        "    plt.plot(x_vals, y_vals, label='Objective Function')\n",
        "    plt.scatter(x, y, color='r')\n",
        "\n",
        "    plt.xlabel('x')\n",
        "    plt.ylabel('f(x)')\n",
        "    plt.title('Optimization Process')\n",
        "    plt.legend()\n",
        "    plt.grid(True)\n",
        "\n",
        "    filename = f\"frame_{i}.png\"\n",
        "    plt.savefig(filename)\n",
        "\n",
        "    plt.clf()\n",
        "\n",
        "    images.append(imageio.imread(filename))\n",
        "\n",
        "imageio.mimsave('optimization_process.gif', images)"
      ],
      "metadata": {
        "colab": {
          "base_uri": "https://localhost:8080/",
          "height": 89
        },
        "id": "kgeeF8V6m0Or",
        "outputId": "5d336eee-c874-47d2-88b9-74e3a21dc2ca"
      },
      "execution_count": 8,
      "outputs": [
        {
          "output_type": "stream",
          "name": "stderr",
          "text": [
            "<ipython-input-8-38587ee61b04>:24: DeprecationWarning: Starting with ImageIO v3 the behavior of this function will switch to that of iio.v3.imread. To keep the current behavior (and make this warning disappear) use `import imageio.v2 as imageio` or call `imageio.v2.imread` directly.\n",
            "  images.append(imageio.imread(filename))\n"
          ]
        },
        {
          "output_type": "display_data",
          "data": {
            "text/plain": [
              "<Figure size 640x480 with 0 Axes>"
            ]
          },
          "metadata": {}
        }
      ]
    },
    {
      "cell_type": "code",
      "source": [
        "def objective(trial):\n",
        "    x = trial.suggest_float('x', -10, 10)\n",
        "    y = trial.suggest_float('y', -10, 10)\n",
        "    return (x - 2) ** 2 + (y - 2) ** 2\n",
        "\n",
        "study = optuna.create_study()\n",
        "study.optimize(objective, n_trials=100)\n",
        "\n",
        "best_params = study.best_params\n",
        "print(\"Mejor valor de 'x':\", best_params[\"x\"])\n",
        "print(\"Mejor valor de 'y':\", best_params[\"y\"])\n",
        "print(\"Valor mínimo encontrado:\", study.best_value)\n"
      ],
      "metadata": {
        "colab": {
          "base_uri": "https://localhost:8080/"
        },
        "id": "hrP2y-5UoEBD",
        "outputId": "f9cc0164-8cb8-4e00-df9d-bf36a0f64d9e"
      },
      "execution_count": 12,
      "outputs": [
        {
          "output_type": "stream",
          "name": "stderr",
          "text": [
            "[I 2024-03-13 21:07:53,188] A new study created in memory with name: no-name-cb8334b4-1024-4f9c-b85e-e473f39ef516\n",
            "[I 2024-03-13 21:07:53,196] Trial 0 finished with value: 33.65148703506831 and parameters: {'x': 2.7360370468276685, 'y': 7.754106055745368}. Best is trial 0 with value: 33.65148703506831.\n",
            "[I 2024-03-13 21:07:53,201] Trial 1 finished with value: 149.51961498048016 and parameters: {'x': 8.88954601806546, 'y': -8.102166631244929}. Best is trial 0 with value: 33.65148703506831.\n",
            "[I 2024-03-13 21:07:53,205] Trial 2 finished with value: 36.16249172963443 and parameters: {'x': 0.19693538050422355, 'y': -3.7368501555781446}. Best is trial 0 with value: 33.65148703506831.\n",
            "[I 2024-03-13 21:07:53,209] Trial 3 finished with value: 142.60846826407362 and parameters: {'x': -3.4552189855666304, 'y': -8.623043541452093}. Best is trial 0 with value: 33.65148703506831.\n",
            "[I 2024-03-13 21:07:53,212] Trial 4 finished with value: 119.56132843007273 and parameters: {'x': -6.8841284727777925, 'y': -4.3744481886083015}. Best is trial 0 with value: 33.65148703506831.\n",
            "[I 2024-03-13 21:07:53,215] Trial 5 finished with value: 37.21911239303914 and parameters: {'x': -3.805475201328763, 'y': 0.12501464544495633}. Best is trial 0 with value: 33.65148703506831.\n",
            "[I 2024-03-13 21:07:53,219] Trial 6 finished with value: 114.73378986525361 and parameters: {'x': -5.6988546250416565, 'y': -5.447242934652281}. Best is trial 0 with value: 33.65148703506831.\n",
            "[I 2024-03-13 21:07:53,222] Trial 7 finished with value: 94.20120855786246 and parameters: {'x': 9.4008028654399, 'y': -4.2792774667758575}. Best is trial 0 with value: 33.65148703506831.\n",
            "[I 2024-03-13 21:07:53,226] Trial 8 finished with value: 48.76259091305344 and parameters: {'x': -4.86770752373467, 'y': 3.2637975634933163}. Best is trial 0 with value: 33.65148703506831.\n",
            "[I 2024-03-13 21:07:53,229] Trial 9 finished with value: 146.54071340327394 and parameters: {'x': -4.039686234481918, 'y': -8.491086864204469}. Best is trial 0 with value: 33.65148703506831.\n",
            "[I 2024-03-13 21:07:53,248] Trial 10 finished with value: 56.425057991369044 and parameters: {'x': 2.950781381034644, 'y': 9.451246389487258}. Best is trial 0 with value: 33.65148703506831.\n",
            "[I 2024-03-13 21:07:53,264] Trial 11 finished with value: 53.82888225918156 and parameters: {'x': 2.5416191466481113, 'y': 9.316797862396209}. Best is trial 0 with value: 33.65148703506831.\n",
            "[I 2024-03-13 21:07:53,280] Trial 12 finished with value: 7.242129590611445 and parameters: {'x': 0.6337569362326974, 'y': 4.318514498837387}. Best is trial 12 with value: 7.242129590611445.\n",
            "[I 2024-03-13 21:07:53,294] Trial 13 finished with value: 22.21306684942634 and parameters: {'x': 5.574202670758522, 'y': 5.072155939689421}. Best is trial 12 with value: 7.242129590611445.\n",
            "[I 2024-03-13 21:07:53,312] Trial 14 finished with value: 17.679685989364287 and parameters: {'x': 5.561119213400784, 'y': 4.235646648581137}. Best is trial 12 with value: 7.242129590611445.\n",
            "[I 2024-03-13 21:07:53,327] Trial 15 finished with value: 18.615929073160476 and parameters: {'x': 6.283889313636261, 'y': 2.514024728659546}. Best is trial 12 with value: 7.242129590611445.\n",
            "[I 2024-03-13 21:07:53,342] Trial 16 finished with value: 150.72663657999064 and parameters: {'x': -9.570620807650203, 'y': 6.104554873011545}. Best is trial 12 with value: 7.242129590611445.\n",
            "[I 2024-03-13 21:07:53,359] Trial 17 finished with value: 9.858063814698646 and parameters: {'x': -0.585695274591165, 'y': 0.21892061893480896}. Best is trial 12 with value: 7.242129590611445.\n",
            "[I 2024-03-13 21:07:53,376] Trial 18 finished with value: 19.2958712706451 and parameters: {'x': -1.234549043252463, 'y': -0.9721311810617772}. Best is trial 12 with value: 7.242129590611445.\n",
            "[I 2024-03-13 21:07:53,390] Trial 19 finished with value: 7.249546834738962 and parameters: {'x': -0.4675341740599157, 'y': 0.9225855325895178}. Best is trial 12 with value: 7.242129590611445.\n",
            "[I 2024-03-13 21:07:53,408] Trial 20 finished with value: 8.782542227974345 and parameters: {'x': 1.0092449529841176, 'y': -0.7930174837954207}. Best is trial 12 with value: 7.242129590611445.\n",
            "[I 2024-03-13 21:07:53,425] Trial 21 finished with value: 0.5058428859853581 and parameters: {'x': 1.6735745487230946, 'y': 1.368106566940258}. Best is trial 21 with value: 0.5058428859853581.\n",
            "[I 2024-03-13 21:07:53,441] Trial 22 finished with value: 17.83805389917646 and parameters: {'x': -2.2158401287762644, 'y': 2.2544521718834245}. Best is trial 21 with value: 0.5058428859853581.\n",
            "[I 2024-03-13 21:07:53,458] Trial 23 finished with value: 2.0265330532154433 and parameters: {'x': 0.7333458813764202, 'y': 1.3502920679340864}. Best is trial 21 with value: 0.5058428859853581.\n",
            "[I 2024-03-13 21:07:53,476] Trial 24 finished with value: 23.5846007504326 and parameters: {'x': 3.966678101333947, 'y': -2.4403578680288938}. Best is trial 21 with value: 0.5058428859853581.\n",
            "[I 2024-03-13 21:07:53,499] Trial 25 finished with value: 22.14713052518804 and parameters: {'x': 1.301239914129256, 'y': 6.653908558145718}. Best is trial 21 with value: 0.5058428859853581.\n",
            "[I 2024-03-13 21:07:53,515] Trial 26 finished with value: 18.198777574747513 and parameters: {'x': -2.2333402974966683, 'y': 1.473115287431554}. Best is trial 21 with value: 0.5058428859853581.\n",
            "[I 2024-03-13 21:07:53,532] Trial 27 finished with value: 4.946463021309848 and parameters: {'x': 1.3347983095923233, 'y': 4.122255812193388}. Best is trial 21 with value: 0.5058428859853581.\n",
            "[I 2024-03-13 21:07:53,549] Trial 28 finished with value: 20.081362361161542 and parameters: {'x': 4.372644933720306, 'y': -1.80156788439361}. Best is trial 21 with value: 0.5058428859853581.\n",
            "[I 2024-03-13 21:07:53,566] Trial 29 finished with value: 32.55211859761403 and parameters: {'x': 2.2495354896665907, 'y': 7.699986897968353}. Best is trial 21 with value: 0.5058428859853581.\n",
            "[I 2024-03-13 21:07:53,583] Trial 30 finished with value: 4.130961415132031 and parameters: {'x': 3.7826993020594664, 'y': 2.976188820653424}. Best is trial 21 with value: 0.5058428859853581.\n",
            "[I 2024-03-13 21:07:53,601] Trial 31 finished with value: 26.48330970673653 and parameters: {'x': 7.0048462407455645, 'y': 3.1978413138773942}. Best is trial 21 with value: 0.5058428859853581.\n",
            "[I 2024-03-13 21:07:53,619] Trial 32 finished with value: 3.2053300065922223 and parameters: {'x': 3.733225682008073, 'y': 1.551381295731139}. Best is trial 21 with value: 0.5058428859853581.\n",
            "[I 2024-03-13 21:07:53,635] Trial 33 finished with value: 4.292987582746963 and parameters: {'x': 4.000920156808527, 'y': 1.46212816691678}. Best is trial 21 with value: 0.5058428859853581.\n",
            "[I 2024-03-13 21:07:53,651] Trial 34 finished with value: 44.6439692026987 and parameters: {'x': 7.681075018964308, 'y': 5.51700950120957}. Best is trial 21 with value: 0.5058428859853581.\n",
            "[I 2024-03-13 21:07:53,667] Trial 35 finished with value: 29.064236264381904 and parameters: {'x': 4.721249212030533, 'y': -2.6539272652680244}. Best is trial 21 with value: 0.5058428859853581.\n",
            "[I 2024-03-13 21:07:53,684] Trial 36 finished with value: 143.45467044913892 and parameters: {'x': 3.034109817597746, 'y': -9.932530634123127}. Best is trial 21 with value: 0.5058428859853581.\n",
            "[I 2024-03-13 21:07:53,700] Trial 37 finished with value: 30.815881798651375 and parameters: {'x': 7.547678468172889, 'y': 2.1978519962554808}. Best is trial 21 with value: 0.5058428859853581.\n",
            "[I 2024-03-13 21:07:53,720] Trial 38 finished with value: 7.354248285290286 and parameters: {'x': 2.170247966119325, 'y': -0.7065224764118472}. Best is trial 21 with value: 0.5058428859853581.\n",
            "[I 2024-03-13 21:07:53,739] Trial 39 finished with value: 83.80531017508434 and parameters: {'x': -1.481475602521305, 'y': -6.466678085538227}. Best is trial 21 with value: 0.5058428859853581.\n",
            "[I 2024-03-13 21:07:53,760] Trial 40 finished with value: 41.74954628910559 and parameters: {'x': 8.316432319271652, 'y': 0.6390337825037187}. Best is trial 21 with value: 0.5058428859853581.\n",
            "[I 2024-03-13 21:07:53,777] Trial 41 finished with value: 5.35266871105267 and parameters: {'x': 3.8787340673403823, 'y': 3.3501951767308804}. Best is trial 21 with value: 0.5058428859853581.\n",
            "[I 2024-03-13 21:07:53,799] Trial 42 finished with value: 2.7502349339979215 and parameters: {'x': 3.4888442893993257, 'y': 1.2695360269520894}. Best is trial 21 with value: 0.5058428859853581.\n",
            "[I 2024-03-13 21:07:53,814] Trial 43 finished with value: 2.9157439300491728 and parameters: {'x': 0.3407841846655013, 'y': 1.5965811008479553}. Best is trial 21 with value: 0.5058428859853581.\n",
            "[I 2024-03-13 21:07:53,832] Trial 44 finished with value: 2.782210355805121 and parameters: {'x': 0.3845995542371834, 'y': 1.58443802431597}. Best is trial 21 with value: 0.5058428859853581.\n",
            "[I 2024-03-13 21:07:53,849] Trial 45 finished with value: 7.418187894114078 and parameters: {'x': 0.13767716998774893, 'y': 0.012554008047202636}. Best is trial 21 with value: 0.5058428859853581.\n",
            "[I 2024-03-13 21:07:53,867] Trial 46 finished with value: 12.190405371431153 and parameters: {'x': 1.6933123930733929, 'y': -1.4779804604380375}. Best is trial 21 with value: 0.5058428859853581.\n",
            "[I 2024-03-13 21:07:53,888] Trial 47 finished with value: 30.434851614475708 and parameters: {'x': -2.97815669127259, 'y': -0.3775633685800366}. Best is trial 21 with value: 0.5058428859853581.\n",
            "[I 2024-03-13 21:07:53,906] Trial 48 finished with value: 28.69413078510811 and parameters: {'x': 0.1858662624501671, 'y': -3.0401438042372946}. Best is trial 21 with value: 0.5058428859853581.\n",
            "[I 2024-03-13 21:07:53,924] Trial 49 finished with value: 12.064875552694733 and parameters: {'x': -0.8328231829898678, 'y': 4.009972230308142}. Best is trial 21 with value: 0.5058428859853581.\n",
            "[I 2024-03-13 21:07:53,939] Trial 50 finished with value: 3.095922149562711 and parameters: {'x': 0.6810548982123643, 'y': 0.8353945011150281}. Best is trial 21 with value: 0.5058428859853581.\n",
            "[I 2024-03-13 21:07:53,954] Trial 51 finished with value: 3.1779605207146675 and parameters: {'x': 0.5702241837321961, 'y': 0.9352457391818509}. Best is trial 21 with value: 0.5058428859853581.\n",
            "[I 2024-03-13 21:07:53,972] Trial 52 finished with value: 0.9098762114398279 and parameters: {'x': 2.9467342151650335, 'y': 1.8835073509800901}. Best is trial 21 with value: 0.5058428859853581.\n",
            "[I 2024-03-13 21:07:53,989] Trial 53 finished with value: 10.480846267487568 and parameters: {'x': 5.191311563251357, 'y': 2.544404972190506}. Best is trial 21 with value: 0.5058428859853581.\n",
            "[I 2024-03-13 21:07:54,004] Trial 54 finished with value: 0.998987381110978 and parameters: {'x': 2.9752430193448896, 'y': 1.7811657377601915}. Best is trial 21 with value: 0.5058428859853581.\n",
            "[I 2024-03-13 21:07:54,022] Trial 55 finished with value: 10.490142608384849 and parameters: {'x': 2.9768286494710896, 'y': 5.088033095346832}. Best is trial 21 with value: 0.5058428859853581.\n",
            "[I 2024-03-13 21:07:54,043] Trial 56 finished with value: 2.7660204013347505 and parameters: {'x': 1.9444004691884922, 'y': 0.3377939076310992}. Best is trial 21 with value: 0.5058428859853581.\n",
            "[I 2024-03-13 21:07:54,060] Trial 57 finished with value: 3.6596311305882194 and parameters: {'x': 1.9496402072325791, 'y': 0.08764673193977002}. Best is trial 21 with value: 0.5058428859853581.\n",
            "[I 2024-03-13 21:07:54,080] Trial 58 finished with value: 12.324299946570001 and parameters: {'x': 2.8984807810858912, 'y': -1.3936753281051044}. Best is trial 21 with value: 0.5058428859853581.\n",
            "[I 2024-03-13 21:07:54,098] Trial 59 finished with value: 14.571301371342036 and parameters: {'x': 5.810198153036451, 'y': 2.2317140607292885}. Best is trial 21 with value: 0.5058428859853581.\n",
            "[I 2024-03-13 21:07:54,117] Trial 60 finished with value: 111.25214228472045 and parameters: {'x': -8.414763562516113, 'y': 0.3312153459456988}. Best is trial 21 with value: 0.5058428859853581.\n",
            "[I 2024-03-13 21:07:54,137] Trial 61 finished with value: 0.7591095616019747 and parameters: {'x': 1.5082951124062083, 'y': 1.2807393621792227}. Best is trial 21 with value: 0.5058428859853581.\n",
            "[I 2024-03-13 21:07:54,166] Trial 62 finished with value: 2.698978684000675 and parameters: {'x': 1.280792287509584, 'y': 3.477064301340662}. Best is trial 21 with value: 0.5058428859853581.\n",
            "[I 2024-03-13 21:07:54,193] Trial 63 finished with value: 5.28155282862444 and parameters: {'x': 3.3285938900062497, 'y': 3.8752042832882236}. Best is trial 21 with value: 0.5058428859853581.\n",
            "[I 2024-03-13 21:07:54,212] Trial 64 finished with value: 0.9939995804055857 and parameters: {'x': 1.5490332217053544, 'y': 2.8891729557741472}. Best is trial 21 with value: 0.5058428859853581.\n",
            "[I 2024-03-13 21:07:54,229] Trial 65 finished with value: 1.3900064119827413 and parameters: {'x': 1.1751787034209797, 'y': 2.8424228396075484}. Best is trial 21 with value: 0.5058428859853581.\n",
            "[I 2024-03-13 21:07:54,247] Trial 66 finished with value: 7.005917016955868 and parameters: {'x': -0.48602029882415215, 'y': 2.9086363908572794}. Best is trial 21 with value: 0.5058428859853581.\n",
            "[I 2024-03-13 21:07:54,266] Trial 67 finished with value: 14.451943119510398 and parameters: {'x': 4.751795111157715, 'y': 4.622892827722646}. Best is trial 21 with value: 0.5058428859853581.\n",
            "[I 2024-03-13 21:07:54,284] Trial 68 finished with value: 0.3384640185240451 and parameters: {'x': 2.578917122301287, 'y': 2.0576106242844308}. Best is trial 68 with value: 0.3384640185240451.\n",
            "[I 2024-03-13 21:07:54,301] Trial 69 finished with value: 0.2980268656976736 and parameters: {'x': 1.466614983543294, 'y': 2.1163068782022503}. Best is trial 69 with value: 0.2980268656976736.\n",
            "[I 2024-03-13 21:07:54,326] Trial 70 finished with value: 0.20822499479561515 and parameters: {'x': 2.455350424222302, 'y': 2.029681407584292}. Best is trial 70 with value: 0.20822499479561515.\n",
            "[I 2024-03-13 21:07:54,345] Trial 71 finished with value: 0.3398828087007966 and parameters: {'x': 2.560516623477133, 'y': 2.1603244320326467}. Best is trial 70 with value: 0.20822499479561515.\n",
            "[I 2024-03-13 21:07:54,364] Trial 72 finished with value: 0.3486182070401445 and parameters: {'x': 2.556798998471262, 'y': 2.196451221277813}. Best is trial 70 with value: 0.20822499479561515.\n",
            "[I 2024-03-13 21:07:54,383] Trial 73 finished with value: 0.32717456401627376 and parameters: {'x': 2.568474330250551, 'y': 2.06333640234858}. Best is trial 70 with value: 0.20822499479561515.\n",
            "[I 2024-03-13 21:07:54,401] Trial 74 finished with value: 0.3981005251994913 and parameters: {'x': 2.487037303089469, 'y': 2.401117427443421}. Best is trial 70 with value: 0.20822499479561515.\n",
            "[I 2024-03-13 21:07:54,421] Trial 75 finished with value: 3.0546745582695936 and parameters: {'x': 2.5683093540150423, 'y': 3.652785236020881}. Best is trial 70 with value: 0.20822499479561515.\n",
            "[I 2024-03-13 21:07:54,442] Trial 76 finished with value: 25.08844989547294 and parameters: {'x': 4.6752807548191075, 'y': 6.234539264001155}. Best is trial 70 with value: 0.20822499479561515.\n",
            "[I 2024-03-13 21:07:54,462] Trial 77 finished with value: 6.978415602768675 and parameters: {'x': 2.519089749026894, 'y': 4.59016629489766}. Best is trial 70 with value: 0.20822499479561515.\n",
            "[I 2024-03-13 21:07:54,480] Trial 78 finished with value: 5.27862214278925 and parameters: {'x': 4.278440916225222, 'y': 2.295515031868131}. Best is trial 70 with value: 0.20822499479561515.\n",
            "[I 2024-03-13 21:07:54,498] Trial 79 finished with value: 5.47844536209982 and parameters: {'x': 2.187936094333381, 'y': -0.33305066094727875}. Best is trial 70 with value: 0.20822499479561515.\n",
            "[I 2024-03-13 21:07:54,515] Trial 80 finished with value: 3.701839695291865 and parameters: {'x': 3.5040560162829353, 'y': 0.8001436772784118}. Best is trial 70 with value: 0.20822499479561515.\n",
            "[I 2024-03-13 21:07:54,534] Trial 81 finished with value: 0.1837344710286692 and parameters: {'x': 1.5962343648542714, 'y': 2.1439019906187387}. Best is trial 81 with value: 0.1837344710286692.\n",
            "[I 2024-03-13 21:07:54,552] Trial 82 finished with value: 0.19032147538411262 and parameters: {'x': 2.4218864352985086, 'y': 2.1110554415381344}. Best is trial 81 with value: 0.1837344710286692.\n",
            "[I 2024-03-13 21:07:54,572] Trial 83 finished with value: 0.43893195608934044 and parameters: {'x': 2.3521828872534325, 'y': 2.561158774336797}. Best is trial 81 with value: 0.1837344710286692.\n",
            "[I 2024-03-13 21:07:54,590] Trial 84 finished with value: 1.29441140677871 and parameters: {'x': 0.8624794702732625, 'y': 2.021411474234924}. Best is trial 81 with value: 0.1837344710286692.\n",
            "[I 2024-03-13 21:07:54,610] Trial 85 finished with value: 6.652482046923702 and parameters: {'x': -0.20827353515849323, 'y': 3.3326702671112285}. Best is trial 81 with value: 0.1837344710286692.\n",
            "[I 2024-03-13 21:07:54,636] Trial 86 finished with value: 62.204787119567015 and parameters: {'x': 9.868240421601852, 'y': 2.5436725001668994}. Best is trial 81 with value: 0.1837344710286692.\n",
            "[I 2024-03-13 21:07:54,662] Trial 87 finished with value: 2.818355884369351 and parameters: {'x': 3.3593950693246613, 'y': 1.0149106995479291}. Best is trial 81 with value: 0.1837344710286692.\n",
            "[I 2024-03-13 21:07:54,687] Trial 88 finished with value: 0.04227126274663494 and parameters: {'x': 1.8172881744395226, 'y': 1.9057256580665098}. Best is trial 88 with value: 0.04227126274663494.\n",
            "[I 2024-03-13 21:07:54,747] Trial 89 finished with value: 0.024581346243803245 and parameters: {'x': 1.8712790112738675, 'y': 1.9104888090506549}. Best is trial 89 with value: 0.024581346243803245.\n",
            "[I 2024-03-13 21:07:54,784] Trial 90 finished with value: 12.531992752585996 and parameters: {'x': -1.214589047474905, 'y': 0.5172963855037049}. Best is trial 89 with value: 0.024581346243803245.\n",
            "[I 2024-03-13 21:07:54,811] Trial 91 finished with value: 0.06887987342830272 and parameters: {'x': 1.7529836360279716, 'y': 1.911327629115146}. Best is trial 89 with value: 0.024581346243803245.\n",
            "[I 2024-03-13 21:07:54,836] Trial 92 finished with value: 1.1943785645484357 and parameters: {'x': 1.8773286835964584, 'y': 3.0859697567981614}. Best is trial 89 with value: 0.024581346243803245.\n",
            "[I 2024-03-13 21:07:54,863] Trial 93 finished with value: 64.64741712515794 and parameters: {'x': 0.8257130214745549, 'y': 9.954147799558639}. Best is trial 89 with value: 0.024581346243803245.\n",
            "[I 2024-03-13 21:07:54,917] Trial 94 finished with value: 0.9784148376376913 and parameters: {'x': 1.0612734899357565, 'y': 1.6882190240885484}. Best is trial 89 with value: 0.024581346243803245.\n",
            "[I 2024-03-13 21:07:54,949] Trial 95 finished with value: 3.302500749052676 and parameters: {'x': 1.7348305089976965, 'y': 3.7978281036000787}. Best is trial 89 with value: 0.024581346243803245.\n",
            "[I 2024-03-13 21:07:54,987] Trial 96 finished with value: 9.388579429757073 and parameters: {'x': -0.08345047691670593, 'y': -0.24673397178941125}. Best is trial 89 with value: 0.024581346243803245.\n",
            "[I 2024-03-13 21:07:55,020] Trial 97 finished with value: 3.648416569783848 and parameters: {'x': 3.908875134312642, 'y': 1.9320861473133701}. Best is trial 89 with value: 0.024581346243803245.\n",
            "[I 2024-03-13 21:07:55,056] Trial 98 finished with value: 0.7863334906291508 and parameters: {'x': 1.9840139002569057, 'y': 1.113389637301619}. Best is trial 89 with value: 0.024581346243803245.\n",
            "[I 2024-03-13 21:07:55,089] Trial 99 finished with value: 7.698447399101991 and parameters: {'x': 3.280423982610541, 'y': 4.461495850871529}. Best is trial 89 with value: 0.024581346243803245.\n"
          ]
        },
        {
          "output_type": "stream",
          "name": "stdout",
          "text": [
            "Mejor valor de 'x': 1.8712790112738675\n",
            "Mejor valor de 'y': 1.9104888090506549\n",
            "Valor mínimo encontrado: 0.024581346243803245\n"
          ]
        }
      ]
    },
    {
      "cell_type": "code",
      "source": [
        "x_vals = np.linspace(-10, 10, 100)\n",
        "y_vals = np.linspace(-10, 10, 100)\n",
        "X, Y = np.meshgrid(x_vals, y_vals)\n",
        "Z = (X - 2) ** 2 + (Y - 2) ** 2\n",
        "\n",
        "images = []\n",
        "\n",
        "for i, trial in enumerate(study.trials):\n",
        "    x = trial.params[\"x\"]\n",
        "    y = trial.params[\"y\"]\n",
        "    z = (x - 2) ** 2 + (y - 2) ** 2\n",
        "\n",
        "    fig = plt.figure(figsize=(10, 7))\n",
        "    ax = fig.add_subplot(111, projection='3d')\n",
        "\n",
        "    ax.plot_surface(X, Y, Z, cmap='viridis', alpha=0.5)\n",
        "    ax.scatter(x, y, z, color='r', s=100)\n",
        "\n",
        "    ax.set_xlabel('x')\n",
        "    ax.set_ylabel('y')\n",
        "    ax.set_zlabel('f(x, y)')\n",
        "    ax.set_title('Optimization Process')\n",
        "\n",
        "    filename = f\"frame_{i}.png\"\n",
        "    plt.savefig(filename)\n",
        "\n",
        "    plt.clf()\n",
        "\n",
        "    images.append(imageio.imread(filename))\n",
        "\n",
        "imageio.mimsave('optimization_process_3d.gif', images)\n",
        "print(\"Gif generado exitosamente.\")"
      ],
      "metadata": {
        "colab": {
          "base_uri": "https://localhost:8080/",
          "height": 1000
        },
        "id": "Vv7WPdX7pElq",
        "outputId": "8487c026-fc24-4d3e-a7c7-9e8a161fa77c"
      },
      "execution_count": 13,
      "outputs": [
        {
          "output_type": "stream",
          "name": "stderr",
          "text": [
            "<ipython-input-13-e574869e1968>:29: DeprecationWarning: Starting with ImageIO v3 the behavior of this function will switch to that of iio.v3.imread. To keep the current behavior (and make this warning disappear) use `import imageio.v2 as imageio` or call `imageio.v2.imread` directly.\n",
            "  images.append(imageio.imread(filename))\n",
            "<ipython-input-13-e574869e1968>:13: RuntimeWarning: More than 20 figures have been opened. Figures created through the pyplot interface (`matplotlib.pyplot.figure`) are retained until explicitly closed and may consume too much memory. (To control this warning, see the rcParam `figure.max_open_warning`). Consider using `matplotlib.pyplot.close()`.\n",
            "  fig = plt.figure(figsize=(10, 7))\n"
          ]
        },
        {
          "output_type": "stream",
          "name": "stdout",
          "text": [
            "Gif generado exitosamente.\n"
          ]
        },
        {
          "output_type": "display_data",
          "data": {
            "text/plain": [
              "<Figure size 1000x700 with 0 Axes>"
            ]
          },
          "metadata": {}
        },
        {
          "output_type": "display_data",
          "data": {
            "text/plain": [
              "<Figure size 1000x700 with 0 Axes>"
            ]
          },
          "metadata": {}
        },
        {
          "output_type": "display_data",
          "data": {
            "text/plain": [
              "<Figure size 1000x700 with 0 Axes>"
            ]
          },
          "metadata": {}
        },
        {
          "output_type": "display_data",
          "data": {
            "text/plain": [
              "<Figure size 1000x700 with 0 Axes>"
            ]
          },
          "metadata": {}
        },
        {
          "output_type": "display_data",
          "data": {
            "text/plain": [
              "<Figure size 1000x700 with 0 Axes>"
            ]
          },
          "metadata": {}
        },
        {
          "output_type": "display_data",
          "data": {
            "text/plain": [
              "<Figure size 1000x700 with 0 Axes>"
            ]
          },
          "metadata": {}
        },
        {
          "output_type": "display_data",
          "data": {
            "text/plain": [
              "<Figure size 1000x700 with 0 Axes>"
            ]
          },
          "metadata": {}
        },
        {
          "output_type": "display_data",
          "data": {
            "text/plain": [
              "<Figure size 1000x700 with 0 Axes>"
            ]
          },
          "metadata": {}
        },
        {
          "output_type": "display_data",
          "data": {
            "text/plain": [
              "<Figure size 1000x700 with 0 Axes>"
            ]
          },
          "metadata": {}
        },
        {
          "output_type": "display_data",
          "data": {
            "text/plain": [
              "<Figure size 1000x700 with 0 Axes>"
            ]
          },
          "metadata": {}
        },
        {
          "output_type": "display_data",
          "data": {
            "text/plain": [
              "<Figure size 1000x700 with 0 Axes>"
            ]
          },
          "metadata": {}
        },
        {
          "output_type": "display_data",
          "data": {
            "text/plain": [
              "<Figure size 1000x700 with 0 Axes>"
            ]
          },
          "metadata": {}
        },
        {
          "output_type": "display_data",
          "data": {
            "text/plain": [
              "<Figure size 1000x700 with 0 Axes>"
            ]
          },
          "metadata": {}
        },
        {
          "output_type": "display_data",
          "data": {
            "text/plain": [
              "<Figure size 1000x700 with 0 Axes>"
            ]
          },
          "metadata": {}
        },
        {
          "output_type": "display_data",
          "data": {
            "text/plain": [
              "<Figure size 1000x700 with 0 Axes>"
            ]
          },
          "metadata": {}
        },
        {
          "output_type": "display_data",
          "data": {
            "text/plain": [
              "<Figure size 1000x700 with 0 Axes>"
            ]
          },
          "metadata": {}
        },
        {
          "output_type": "display_data",
          "data": {
            "text/plain": [
              "<Figure size 1000x700 with 0 Axes>"
            ]
          },
          "metadata": {}
        },
        {
          "output_type": "display_data",
          "data": {
            "text/plain": [
              "<Figure size 1000x700 with 0 Axes>"
            ]
          },
          "metadata": {}
        },
        {
          "output_type": "display_data",
          "data": {
            "text/plain": [
              "<Figure size 1000x700 with 0 Axes>"
            ]
          },
          "metadata": {}
        },
        {
          "output_type": "display_data",
          "data": {
            "text/plain": [
              "<Figure size 1000x700 with 0 Axes>"
            ]
          },
          "metadata": {}
        },
        {
          "output_type": "display_data",
          "data": {
            "text/plain": [
              "<Figure size 1000x700 with 0 Axes>"
            ]
          },
          "metadata": {}
        },
        {
          "output_type": "display_data",
          "data": {
            "text/plain": [
              "<Figure size 1000x700 with 0 Axes>"
            ]
          },
          "metadata": {}
        },
        {
          "output_type": "display_data",
          "data": {
            "text/plain": [
              "<Figure size 1000x700 with 0 Axes>"
            ]
          },
          "metadata": {}
        },
        {
          "output_type": "display_data",
          "data": {
            "text/plain": [
              "<Figure size 1000x700 with 0 Axes>"
            ]
          },
          "metadata": {}
        },
        {
          "output_type": "display_data",
          "data": {
            "text/plain": [
              "<Figure size 1000x700 with 0 Axes>"
            ]
          },
          "metadata": {}
        },
        {
          "output_type": "display_data",
          "data": {
            "text/plain": [
              "<Figure size 1000x700 with 0 Axes>"
            ]
          },
          "metadata": {}
        },
        {
          "output_type": "display_data",
          "data": {
            "text/plain": [
              "<Figure size 1000x700 with 0 Axes>"
            ]
          },
          "metadata": {}
        },
        {
          "output_type": "display_data",
          "data": {
            "text/plain": [
              "<Figure size 1000x700 with 0 Axes>"
            ]
          },
          "metadata": {}
        },
        {
          "output_type": "display_data",
          "data": {
            "text/plain": [
              "<Figure size 1000x700 with 0 Axes>"
            ]
          },
          "metadata": {}
        },
        {
          "output_type": "display_data",
          "data": {
            "text/plain": [
              "<Figure size 1000x700 with 0 Axes>"
            ]
          },
          "metadata": {}
        },
        {
          "output_type": "display_data",
          "data": {
            "text/plain": [
              "<Figure size 1000x700 with 0 Axes>"
            ]
          },
          "metadata": {}
        },
        {
          "output_type": "display_data",
          "data": {
            "text/plain": [
              "<Figure size 1000x700 with 0 Axes>"
            ]
          },
          "metadata": {}
        },
        {
          "output_type": "display_data",
          "data": {
            "text/plain": [
              "<Figure size 1000x700 with 0 Axes>"
            ]
          },
          "metadata": {}
        },
        {
          "output_type": "display_data",
          "data": {
            "text/plain": [
              "<Figure size 1000x700 with 0 Axes>"
            ]
          },
          "metadata": {}
        },
        {
          "output_type": "display_data",
          "data": {
            "text/plain": [
              "<Figure size 1000x700 with 0 Axes>"
            ]
          },
          "metadata": {}
        },
        {
          "output_type": "display_data",
          "data": {
            "text/plain": [
              "<Figure size 1000x700 with 0 Axes>"
            ]
          },
          "metadata": {}
        },
        {
          "output_type": "display_data",
          "data": {
            "text/plain": [
              "<Figure size 1000x700 with 0 Axes>"
            ]
          },
          "metadata": {}
        },
        {
          "output_type": "display_data",
          "data": {
            "text/plain": [
              "<Figure size 1000x700 with 0 Axes>"
            ]
          },
          "metadata": {}
        },
        {
          "output_type": "display_data",
          "data": {
            "text/plain": [
              "<Figure size 1000x700 with 0 Axes>"
            ]
          },
          "metadata": {}
        },
        {
          "output_type": "display_data",
          "data": {
            "text/plain": [
              "<Figure size 1000x700 with 0 Axes>"
            ]
          },
          "metadata": {}
        },
        {
          "output_type": "display_data",
          "data": {
            "text/plain": [
              "<Figure size 1000x700 with 0 Axes>"
            ]
          },
          "metadata": {}
        },
        {
          "output_type": "display_data",
          "data": {
            "text/plain": [
              "<Figure size 1000x700 with 0 Axes>"
            ]
          },
          "metadata": {}
        },
        {
          "output_type": "display_data",
          "data": {
            "text/plain": [
              "<Figure size 1000x700 with 0 Axes>"
            ]
          },
          "metadata": {}
        },
        {
          "output_type": "display_data",
          "data": {
            "text/plain": [
              "<Figure size 1000x700 with 0 Axes>"
            ]
          },
          "metadata": {}
        },
        {
          "output_type": "display_data",
          "data": {
            "text/plain": [
              "<Figure size 1000x700 with 0 Axes>"
            ]
          },
          "metadata": {}
        },
        {
          "output_type": "display_data",
          "data": {
            "text/plain": [
              "<Figure size 1000x700 with 0 Axes>"
            ]
          },
          "metadata": {}
        },
        {
          "output_type": "display_data",
          "data": {
            "text/plain": [
              "<Figure size 1000x700 with 0 Axes>"
            ]
          },
          "metadata": {}
        },
        {
          "output_type": "display_data",
          "data": {
            "text/plain": [
              "<Figure size 1000x700 with 0 Axes>"
            ]
          },
          "metadata": {}
        },
        {
          "output_type": "display_data",
          "data": {
            "text/plain": [
              "<Figure size 1000x700 with 0 Axes>"
            ]
          },
          "metadata": {}
        },
        {
          "output_type": "display_data",
          "data": {
            "text/plain": [
              "<Figure size 1000x700 with 0 Axes>"
            ]
          },
          "metadata": {}
        },
        {
          "output_type": "display_data",
          "data": {
            "text/plain": [
              "<Figure size 1000x700 with 0 Axes>"
            ]
          },
          "metadata": {}
        },
        {
          "output_type": "display_data",
          "data": {
            "text/plain": [
              "<Figure size 1000x700 with 0 Axes>"
            ]
          },
          "metadata": {}
        },
        {
          "output_type": "display_data",
          "data": {
            "text/plain": [
              "<Figure size 1000x700 with 0 Axes>"
            ]
          },
          "metadata": {}
        },
        {
          "output_type": "display_data",
          "data": {
            "text/plain": [
              "<Figure size 1000x700 with 0 Axes>"
            ]
          },
          "metadata": {}
        },
        {
          "output_type": "display_data",
          "data": {
            "text/plain": [
              "<Figure size 1000x700 with 0 Axes>"
            ]
          },
          "metadata": {}
        },
        {
          "output_type": "display_data",
          "data": {
            "text/plain": [
              "<Figure size 1000x700 with 0 Axes>"
            ]
          },
          "metadata": {}
        },
        {
          "output_type": "display_data",
          "data": {
            "text/plain": [
              "<Figure size 1000x700 with 0 Axes>"
            ]
          },
          "metadata": {}
        },
        {
          "output_type": "display_data",
          "data": {
            "text/plain": [
              "<Figure size 1000x700 with 0 Axes>"
            ]
          },
          "metadata": {}
        },
        {
          "output_type": "display_data",
          "data": {
            "text/plain": [
              "<Figure size 1000x700 with 0 Axes>"
            ]
          },
          "metadata": {}
        },
        {
          "output_type": "display_data",
          "data": {
            "text/plain": [
              "<Figure size 1000x700 with 0 Axes>"
            ]
          },
          "metadata": {}
        },
        {
          "output_type": "display_data",
          "data": {
            "text/plain": [
              "<Figure size 1000x700 with 0 Axes>"
            ]
          },
          "metadata": {}
        },
        {
          "output_type": "display_data",
          "data": {
            "text/plain": [
              "<Figure size 1000x700 with 0 Axes>"
            ]
          },
          "metadata": {}
        },
        {
          "output_type": "display_data",
          "data": {
            "text/plain": [
              "<Figure size 1000x700 with 0 Axes>"
            ]
          },
          "metadata": {}
        },
        {
          "output_type": "display_data",
          "data": {
            "text/plain": [
              "<Figure size 1000x700 with 0 Axes>"
            ]
          },
          "metadata": {}
        },
        {
          "output_type": "display_data",
          "data": {
            "text/plain": [
              "<Figure size 1000x700 with 0 Axes>"
            ]
          },
          "metadata": {}
        },
        {
          "output_type": "display_data",
          "data": {
            "text/plain": [
              "<Figure size 1000x700 with 0 Axes>"
            ]
          },
          "metadata": {}
        },
        {
          "output_type": "display_data",
          "data": {
            "text/plain": [
              "<Figure size 1000x700 with 0 Axes>"
            ]
          },
          "metadata": {}
        },
        {
          "output_type": "display_data",
          "data": {
            "text/plain": [
              "<Figure size 1000x700 with 0 Axes>"
            ]
          },
          "metadata": {}
        },
        {
          "output_type": "display_data",
          "data": {
            "text/plain": [
              "<Figure size 1000x700 with 0 Axes>"
            ]
          },
          "metadata": {}
        },
        {
          "output_type": "display_data",
          "data": {
            "text/plain": [
              "<Figure size 1000x700 with 0 Axes>"
            ]
          },
          "metadata": {}
        },
        {
          "output_type": "display_data",
          "data": {
            "text/plain": [
              "<Figure size 1000x700 with 0 Axes>"
            ]
          },
          "metadata": {}
        },
        {
          "output_type": "display_data",
          "data": {
            "text/plain": [
              "<Figure size 1000x700 with 0 Axes>"
            ]
          },
          "metadata": {}
        },
        {
          "output_type": "display_data",
          "data": {
            "text/plain": [
              "<Figure size 1000x700 with 0 Axes>"
            ]
          },
          "metadata": {}
        },
        {
          "output_type": "display_data",
          "data": {
            "text/plain": [
              "<Figure size 1000x700 with 0 Axes>"
            ]
          },
          "metadata": {}
        },
        {
          "output_type": "display_data",
          "data": {
            "text/plain": [
              "<Figure size 1000x700 with 0 Axes>"
            ]
          },
          "metadata": {}
        },
        {
          "output_type": "display_data",
          "data": {
            "text/plain": [
              "<Figure size 1000x700 with 0 Axes>"
            ]
          },
          "metadata": {}
        },
        {
          "output_type": "display_data",
          "data": {
            "text/plain": [
              "<Figure size 1000x700 with 0 Axes>"
            ]
          },
          "metadata": {}
        },
        {
          "output_type": "display_data",
          "data": {
            "text/plain": [
              "<Figure size 1000x700 with 0 Axes>"
            ]
          },
          "metadata": {}
        },
        {
          "output_type": "display_data",
          "data": {
            "text/plain": [
              "<Figure size 1000x700 with 0 Axes>"
            ]
          },
          "metadata": {}
        },
        {
          "output_type": "display_data",
          "data": {
            "text/plain": [
              "<Figure size 1000x700 with 0 Axes>"
            ]
          },
          "metadata": {}
        },
        {
          "output_type": "display_data",
          "data": {
            "text/plain": [
              "<Figure size 1000x700 with 0 Axes>"
            ]
          },
          "metadata": {}
        },
        {
          "output_type": "display_data",
          "data": {
            "text/plain": [
              "<Figure size 1000x700 with 0 Axes>"
            ]
          },
          "metadata": {}
        },
        {
          "output_type": "display_data",
          "data": {
            "text/plain": [
              "<Figure size 1000x700 with 0 Axes>"
            ]
          },
          "metadata": {}
        },
        {
          "output_type": "display_data",
          "data": {
            "text/plain": [
              "<Figure size 1000x700 with 0 Axes>"
            ]
          },
          "metadata": {}
        },
        {
          "output_type": "display_data",
          "data": {
            "text/plain": [
              "<Figure size 1000x700 with 0 Axes>"
            ]
          },
          "metadata": {}
        },
        {
          "output_type": "display_data",
          "data": {
            "text/plain": [
              "<Figure size 1000x700 with 0 Axes>"
            ]
          },
          "metadata": {}
        },
        {
          "output_type": "display_data",
          "data": {
            "text/plain": [
              "<Figure size 1000x700 with 0 Axes>"
            ]
          },
          "metadata": {}
        },
        {
          "output_type": "display_data",
          "data": {
            "text/plain": [
              "<Figure size 1000x700 with 0 Axes>"
            ]
          },
          "metadata": {}
        },
        {
          "output_type": "display_data",
          "data": {
            "text/plain": [
              "<Figure size 1000x700 with 0 Axes>"
            ]
          },
          "metadata": {}
        },
        {
          "output_type": "display_data",
          "data": {
            "text/plain": [
              "<Figure size 1000x700 with 0 Axes>"
            ]
          },
          "metadata": {}
        },
        {
          "output_type": "display_data",
          "data": {
            "text/plain": [
              "<Figure size 1000x700 with 0 Axes>"
            ]
          },
          "metadata": {}
        },
        {
          "output_type": "display_data",
          "data": {
            "text/plain": [
              "<Figure size 1000x700 with 0 Axes>"
            ]
          },
          "metadata": {}
        },
        {
          "output_type": "display_data",
          "data": {
            "text/plain": [
              "<Figure size 1000x700 with 0 Axes>"
            ]
          },
          "metadata": {}
        },
        {
          "output_type": "display_data",
          "data": {
            "text/plain": [
              "<Figure size 1000x700 with 0 Axes>"
            ]
          },
          "metadata": {}
        },
        {
          "output_type": "display_data",
          "data": {
            "text/plain": [
              "<Figure size 1000x700 with 0 Axes>"
            ]
          },
          "metadata": {}
        },
        {
          "output_type": "display_data",
          "data": {
            "text/plain": [
              "<Figure size 1000x700 with 0 Axes>"
            ]
          },
          "metadata": {}
        },
        {
          "output_type": "display_data",
          "data": {
            "text/plain": [
              "<Figure size 1000x700 with 0 Axes>"
            ]
          },
          "metadata": {}
        },
        {
          "output_type": "display_data",
          "data": {
            "text/plain": [
              "<Figure size 1000x700 with 0 Axes>"
            ]
          },
          "metadata": {}
        },
        {
          "output_type": "display_data",
          "data": {
            "text/plain": [
              "<Figure size 1000x700 with 0 Axes>"
            ]
          },
          "metadata": {}
        },
        {
          "output_type": "display_data",
          "data": {
            "text/plain": [
              "<Figure size 1000x700 with 0 Axes>"
            ]
          },
          "metadata": {}
        }
      ]
    }
  ]
}