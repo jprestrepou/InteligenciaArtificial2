{
  "nbformat": 4,
  "nbformat_minor": 0,
  "metadata": {
    "colab": {
      "provenance": [],
      "gpuType": "T4"
    },
    "kernelspec": {
      "name": "python3",
      "display_name": "Python 3"
    },
    "language_info": {
      "name": "python"
    },
    "accelerator": "GPU"
  },
  "cells": [
    {
      "cell_type": "code",
      "source": [
        "!pip install optuna"
      ],
      "metadata": {
        "colab": {
          "base_uri": "https://localhost:8080/"
        },
        "id": "FxHEqCH9Yg7t",
        "outputId": "07607412-59ec-453c-cc6d-6297e4df039d"
      },
      "execution_count": 1,
      "outputs": [
        {
          "output_type": "stream",
          "name": "stdout",
          "text": [
            "Collecting optuna\n",
            "  Downloading optuna-3.5.0-py3-none-any.whl (413 kB)\n",
            "\u001b[2K     \u001b[90m━━━━━━━━━━━━━━━━━━━━━━━━━━━━━━━━━━━━━━━━\u001b[0m \u001b[32m413.4/413.4 kB\u001b[0m \u001b[31m5.6 MB/s\u001b[0m eta \u001b[36m0:00:00\u001b[0m\n",
            "\u001b[?25hCollecting alembic>=1.5.0 (from optuna)\n",
            "  Downloading alembic-1.13.1-py3-none-any.whl (233 kB)\n",
            "\u001b[2K     \u001b[90m━━━━━━━━━━━━━━━━━━━━━━━━━━━━━━━━━━━━━━━━\u001b[0m \u001b[32m233.4/233.4 kB\u001b[0m \u001b[31m15.8 MB/s\u001b[0m eta \u001b[36m0:00:00\u001b[0m\n",
            "\u001b[?25hCollecting colorlog (from optuna)\n",
            "  Downloading colorlog-6.8.2-py3-none-any.whl (11 kB)\n",
            "Requirement already satisfied: numpy in /usr/local/lib/python3.10/dist-packages (from optuna) (1.25.2)\n",
            "Requirement already satisfied: packaging>=20.0 in /usr/local/lib/python3.10/dist-packages (from optuna) (24.0)\n",
            "Requirement already satisfied: sqlalchemy>=1.3.0 in /usr/local/lib/python3.10/dist-packages (from optuna) (2.0.28)\n",
            "Requirement already satisfied: tqdm in /usr/local/lib/python3.10/dist-packages (from optuna) (4.66.2)\n",
            "Requirement already satisfied: PyYAML in /usr/local/lib/python3.10/dist-packages (from optuna) (6.0.1)\n",
            "Collecting Mako (from alembic>=1.5.0->optuna)\n",
            "  Downloading Mako-1.3.2-py3-none-any.whl (78 kB)\n",
            "\u001b[2K     \u001b[90m━━━━━━━━━━━━━━━━━━━━━━━━━━━━━━━━━━━━━━━━\u001b[0m \u001b[32m78.7/78.7 kB\u001b[0m \u001b[31m4.1 MB/s\u001b[0m eta \u001b[36m0:00:00\u001b[0m\n",
            "\u001b[?25hRequirement already satisfied: typing-extensions>=4 in /usr/local/lib/python3.10/dist-packages (from alembic>=1.5.0->optuna) (4.10.0)\n",
            "Requirement already satisfied: greenlet!=0.4.17 in /usr/local/lib/python3.10/dist-packages (from sqlalchemy>=1.3.0->optuna) (3.0.3)\n",
            "Requirement already satisfied: MarkupSafe>=0.9.2 in /usr/local/lib/python3.10/dist-packages (from Mako->alembic>=1.5.0->optuna) (2.1.5)\n",
            "Installing collected packages: Mako, colorlog, alembic, optuna\n",
            "Successfully installed Mako-1.3.2 alembic-1.13.1 colorlog-6.8.2 optuna-3.5.0\n"
          ]
        }
      ]
    },
    {
      "cell_type": "code",
      "source": [
        "import optuna\n",
        "import numpy as np\n",
        "import tensorflow as tf\n",
        "import matplotlib.pyplot as plt\n",
        "from sklearn.datasets import load_iris\n",
        "from tensorflow import keras\n",
        "from tensorflow.keras.layers import Dense, Convolution2D, Activation, MaxPooling2D, Flatten, Dropout\n",
        "from keras.models import Sequential\n",
        "from sklearn.model_selection import train_test_split"
      ],
      "metadata": {
        "id": "621kEEIJKO3k"
      },
      "execution_count": 24,
      "outputs": []
    },
    {
      "cell_type": "code",
      "source": [
        "iris = load_iris()\n",
        "X, y = iris.data, iris.target\n",
        "\n",
        "X_train, X_test, y_train, y_test = train_test_split(X, y, test_size=0.2, random_state=42)\n",
        "\n",
        "def objective(trial):\n",
        "    model = Sequential()\n",
        "    model.add(Dense(units=trial.suggest_int('units', 32, 128), activation='relu', input_dim=4))\n",
        "    model.add(Dropout(trial.suggest_float('dropout', 0.0, 0.5)))\n",
        "    model.add(Dense(units=3, activation='softmax'))\n",
        "\n",
        "    model.compile(optimizer='adam',\n",
        "                  loss='sparse_categorical_crossentropy',\n",
        "                  metrics=['accuracy'])\n",
        "\n",
        "    model.fit(X_train, y_train, epochs=5, batch_size=trial.suggest_categorical('batch_size', [16, 32, 64]), verbose=0)\n",
        "\n",
        "    score = model.evaluate(X_test, y_test, verbose=0)\n",
        "    return score[1]\n",
        "\n",
        "study = optuna.create_study()\n",
        "\n",
        "study.optimize(objective, n_trials=50)\n",
        "best_params = study.best_params\n",
        "print(\"Mejores hiperparámetros:\", best_params)\n"
      ],
      "metadata": {
        "colab": {
          "base_uri": "https://localhost:8080/"
        },
        "id": "YZa8CdFisJv-",
        "outputId": "eebefb0e-0b1e-4fa0-9560-72a11e00ed00"
      },
      "execution_count": 26,
      "outputs": [
        {
          "output_type": "stream",
          "name": "stderr",
          "text": [
            "[I 2024-03-13 21:33:10,999] A new study created in memory with name: no-name-c0f8c329-4c24-4fda-b89f-cc8cca3b7ed0\n",
            "[I 2024-03-13 21:33:14,452] Trial 0 finished with value: 0.36666667461395264 and parameters: {'units': 94, 'dropout': 0.4596936176220378, 'batch_size': 64}. Best is trial 0 with value: 0.36666667461395264.\n",
            "[I 2024-03-13 21:33:15,589] Trial 1 finished with value: 0.46666666865348816 and parameters: {'units': 106, 'dropout': 0.4230144696653521, 'batch_size': 64}. Best is trial 0 with value: 0.36666667461395264.\n",
            "[I 2024-03-13 21:33:16,943] Trial 2 finished with value: 0.30000001192092896 and parameters: {'units': 36, 'dropout': 0.37033376459202016, 'batch_size': 64}. Best is trial 2 with value: 0.30000001192092896.\n",
            "WARNING:tensorflow:5 out of the last 317 calls to <function Model.make_test_function.<locals>.test_function at 0x7f14c5c05990> triggered tf.function retracing. Tracing is expensive and the excessive number of tracings could be due to (1) creating @tf.function repeatedly in a loop, (2) passing tensors with different shapes, (3) passing Python objects instead of tensors. For (1), please define your @tf.function outside of the loop. For (2), @tf.function has reduce_retracing=True option that can avoid unnecessary retracing. For (3), please refer to https://www.tensorflow.org/guide/function#controlling_retracing and https://www.tensorflow.org/api_docs/python/tf/function for  more details.\n",
            "[I 2024-03-13 21:33:18,258] Trial 3 finished with value: 0.30000001192092896 and parameters: {'units': 58, 'dropout': 0.19666025313295166, 'batch_size': 64}. Best is trial 2 with value: 0.30000001192092896.\n",
            "WARNING:tensorflow:6 out of the last 318 calls to <function Model.make_test_function.<locals>.test_function at 0x7f14c59dac20> triggered tf.function retracing. Tracing is expensive and the excessive number of tracings could be due to (1) creating @tf.function repeatedly in a loop, (2) passing tensors with different shapes, (3) passing Python objects instead of tensors. For (1), please define your @tf.function outside of the loop. For (2), @tf.function has reduce_retracing=True option that can avoid unnecessary retracing. For (3), please refer to https://www.tensorflow.org/guide/function#controlling_retracing and https://www.tensorflow.org/api_docs/python/tf/function for  more details.\n",
            "[I 2024-03-13 21:33:20,037] Trial 4 finished with value: 1.0 and parameters: {'units': 107, 'dropout': 0.06372675579390291, 'batch_size': 16}. Best is trial 2 with value: 0.30000001192092896.\n",
            "[I 2024-03-13 21:33:21,513] Trial 5 finished with value: 0.3333333432674408 and parameters: {'units': 37, 'dropout': 0.39285567076333555, 'batch_size': 64}. Best is trial 2 with value: 0.30000001192092896.\n",
            "[I 2024-03-13 21:33:22,663] Trial 6 finished with value: 0.4333333373069763 and parameters: {'units': 104, 'dropout': 0.07468465224238147, 'batch_size': 64}. Best is trial 2 with value: 0.30000001192092896.\n",
            "[I 2024-03-13 21:33:23,929] Trial 7 finished with value: 0.699999988079071 and parameters: {'units': 109, 'dropout': 0.058662035183333294, 'batch_size': 16}. Best is trial 2 with value: 0.30000001192092896.\n",
            "[I 2024-03-13 21:33:25,262] Trial 8 finished with value: 0.6333333253860474 and parameters: {'units': 59, 'dropout': 0.19445421123699946, 'batch_size': 64}. Best is trial 2 with value: 0.30000001192092896.\n",
            "[I 2024-03-13 21:33:26,504] Trial 9 finished with value: 0.699999988079071 and parameters: {'units': 47, 'dropout': 0.20480841793028742, 'batch_size': 16}. Best is trial 2 with value: 0.30000001192092896.\n",
            "[I 2024-03-13 21:33:27,703] Trial 10 finished with value: 0.30000001192092896 and parameters: {'units': 70, 'dropout': 0.3443723609328977, 'batch_size': 32}. Best is trial 2 with value: 0.30000001192092896.\n",
            "[I 2024-03-13 21:33:29,036] Trial 11 finished with value: 0.3333333432674408 and parameters: {'units': 35, 'dropout': 0.30718913914804485, 'batch_size': 32}. Best is trial 2 with value: 0.30000001192092896.\n",
            "[I 2024-03-13 21:33:30,385] Trial 12 finished with value: 0.3333333432674408 and parameters: {'units': 57, 'dropout': 0.25752506239201484, 'batch_size': 64}. Best is trial 2 with value: 0.30000001192092896.\n",
            "[I 2024-03-13 21:33:32,586] Trial 13 finished with value: 0.36666667461395264 and parameters: {'units': 81, 'dropout': 0.19453166980831316, 'batch_size': 64}. Best is trial 2 with value: 0.30000001192092896.\n",
            "[I 2024-03-13 21:33:33,969] Trial 14 finished with value: 0.1666666716337204 and parameters: {'units': 51, 'dropout': 0.14650641985340487, 'batch_size': 64}. Best is trial 14 with value: 0.1666666716337204.\n",
            "[I 2024-03-13 21:33:35,206] Trial 15 finished with value: 0.36666667461395264 and parameters: {'units': 123, 'dropout': 0.11298619394028248, 'batch_size': 32}. Best is trial 14 with value: 0.1666666716337204.\n",
            "[I 2024-03-13 21:33:37,141] Trial 16 finished with value: 0.3333333432674408 and parameters: {'units': 45, 'dropout': 0.488100482962321, 'batch_size': 64}. Best is trial 14 with value: 0.1666666716337204.\n",
            "[I 2024-03-13 21:33:38,335] Trial 17 finished with value: 0.36666667461395264 and parameters: {'units': 77, 'dropout': 0.13187525907534242, 'batch_size': 64}. Best is trial 14 with value: 0.1666666716337204.\n",
            "[I 2024-03-13 21:33:39,512] Trial 18 finished with value: 0.36666667461395264 and parameters: {'units': 46, 'dropout': 0.3140826512198207, 'batch_size': 32}. Best is trial 14 with value: 0.1666666716337204.\n",
            "[I 2024-03-13 21:33:40,714] Trial 19 finished with value: 0.4333333373069763 and parameters: {'units': 67, 'dropout': 0.005250001204314125, 'batch_size': 16}. Best is trial 14 with value: 0.1666666716337204.\n",
            "[I 2024-03-13 21:33:41,907] Trial 20 finished with value: 0.36666667461395264 and parameters: {'units': 33, 'dropout': 0.38041309445834953, 'batch_size': 64}. Best is trial 14 with value: 0.1666666716337204.\n",
            "[I 2024-03-13 21:33:43,466] Trial 21 finished with value: 0.36666667461395264 and parameters: {'units': 53, 'dropout': 0.25663319131752943, 'batch_size': 64}. Best is trial 14 with value: 0.1666666716337204.\n",
            "[I 2024-03-13 21:33:45,108] Trial 22 finished with value: 0.13333334028720856 and parameters: {'units': 64, 'dropout': 0.15079157505241314, 'batch_size': 64}. Best is trial 22 with value: 0.13333334028720856.\n",
            "[I 2024-03-13 21:33:46,124] Trial 23 finished with value: 0.5 and parameters: {'units': 67, 'dropout': 0.14352790821607234, 'batch_size': 64}. Best is trial 22 with value: 0.13333334028720856.\n",
            "[I 2024-03-13 21:33:47,287] Trial 24 finished with value: 0.36666667461395264 and parameters: {'units': 42, 'dropout': 0.1428048605568792, 'batch_size': 64}. Best is trial 22 with value: 0.13333334028720856.\n",
            "[I 2024-03-13 21:33:48,645] Trial 25 finished with value: 0.36666667461395264 and parameters: {'units': 85, 'dropout': 0.2908974991215427, 'batch_size': 64}. Best is trial 22 with value: 0.13333334028720856.\n",
            "[I 2024-03-13 21:33:49,956] Trial 26 finished with value: 0.699999988079071 and parameters: {'units': 53, 'dropout': 0.2268209000382338, 'batch_size': 64}. Best is trial 22 with value: 0.13333334028720856.\n",
            "[I 2024-03-13 21:33:51,057] Trial 27 finished with value: 0.36666667461395264 and parameters: {'units': 63, 'dropout': 0.16573544587825, 'batch_size': 64}. Best is trial 22 with value: 0.13333334028720856.\n",
            "[I 2024-03-13 21:33:52,390] Trial 28 finished with value: 0.699999988079071 and parameters: {'units': 73, 'dropout': 0.10619542850770172, 'batch_size': 16}. Best is trial 22 with value: 0.13333334028720856.\n",
            "[I 2024-03-13 21:33:53,728] Trial 29 finished with value: 0.6333333253860474 and parameters: {'units': 92, 'dropout': 0.0004460401288358118, 'batch_size': 32}. Best is trial 22 with value: 0.13333334028720856.\n",
            "[I 2024-03-13 21:33:55,253] Trial 30 finished with value: 0.36666667461395264 and parameters: {'units': 40, 'dropout': 0.4463441633283748, 'batch_size': 64}. Best is trial 22 with value: 0.13333334028720856.\n",
            "[I 2024-03-13 21:33:56,762] Trial 31 finished with value: 0.5333333611488342 and parameters: {'units': 54, 'dropout': 0.17254449695726773, 'batch_size': 64}. Best is trial 22 with value: 0.13333334028720856.\n",
            "[I 2024-03-13 21:33:58,088] Trial 32 finished with value: 0.6000000238418579 and parameters: {'units': 49, 'dropout': 0.22101733954291733, 'batch_size': 64}. Best is trial 22 with value: 0.13333334028720856.\n",
            "[I 2024-03-13 21:33:59,408] Trial 33 finished with value: 0.5333333611488342 and parameters: {'units': 60, 'dropout': 0.27748550005821015, 'batch_size': 64}. Best is trial 22 with value: 0.13333334028720856.\n",
            "[I 2024-03-13 21:34:00,745] Trial 34 finished with value: 0.36666667461395264 and parameters: {'units': 32, 'dropout': 0.3408352297412489, 'batch_size': 64}. Best is trial 22 with value: 0.13333334028720856.\n",
            "[I 2024-03-13 21:34:01,892] Trial 35 finished with value: 0.36666667461395264 and parameters: {'units': 62, 'dropout': 0.09808399283827204, 'batch_size': 64}. Best is trial 22 with value: 0.13333334028720856.\n",
            "[I 2024-03-13 21:34:02,904] Trial 36 finished with value: 0.3333333432674408 and parameters: {'units': 40, 'dropout': 0.1630655901781377, 'batch_size': 64}. Best is trial 22 with value: 0.13333334028720856.\n",
            "[I 2024-03-13 21:34:04,133] Trial 37 finished with value: 1.0 and parameters: {'units': 75, 'dropout': 0.04103783603015228, 'batch_size': 16}. Best is trial 22 with value: 0.13333334028720856.\n",
            "[I 2024-03-13 21:34:05,124] Trial 38 finished with value: 0.36666667461395264 and parameters: {'units': 51, 'dropout': 0.41919160119165727, 'batch_size': 64}. Best is trial 22 with value: 0.13333334028720856.\n",
            "[I 2024-03-13 21:34:06,530] Trial 39 finished with value: 0.8333333134651184 and parameters: {'units': 39, 'dropout': 0.2353407693735588, 'batch_size': 64}. Best is trial 22 with value: 0.13333334028720856.\n",
            "[I 2024-03-13 21:34:08,775] Trial 40 finished with value: 0.7333333492279053 and parameters: {'units': 65, 'dropout': 0.17966671835983095, 'batch_size': 16}. Best is trial 22 with value: 0.13333334028720856.\n",
            "[I 2024-03-13 21:34:09,981] Trial 41 finished with value: 0.699999988079071 and parameters: {'units': 68, 'dropout': 0.3556234118410511, 'batch_size': 32}. Best is trial 22 with value: 0.13333334028720856.\n",
            "[I 2024-03-13 21:34:11,167] Trial 42 finished with value: 0.36666667461395264 and parameters: {'units': 71, 'dropout': 0.41030806917342766, 'batch_size': 32}. Best is trial 22 with value: 0.13333334028720856.\n",
            "[I 2024-03-13 21:34:12,318] Trial 43 finished with value: 0.6000000238418579 and parameters: {'units': 56, 'dropout': 0.36723262376000587, 'batch_size': 32}. Best is trial 22 with value: 0.13333334028720856.\n",
            "[I 2024-03-13 21:34:13,663] Trial 44 finished with value: 0.30000001192092896 and parameters: {'units': 58, 'dropout': 0.34434771922989144, 'batch_size': 32}. Best is trial 22 with value: 0.13333334028720856.\n",
            "[I 2024-03-13 21:34:15,571] Trial 45 finished with value: 0.46666666865348816 and parameters: {'units': 81, 'dropout': 0.32775701647616245, 'batch_size': 32}. Best is trial 22 with value: 0.13333334028720856.\n",
            "[I 2024-03-13 21:34:16,795] Trial 46 finished with value: 0.4000000059604645 and parameters: {'units': 91, 'dropout': 0.20649608507656275, 'batch_size': 64}. Best is trial 22 with value: 0.13333334028720856.\n",
            "[I 2024-03-13 21:34:17,860] Trial 47 finished with value: 0.5 and parameters: {'units': 49, 'dropout': 0.44423576233824236, 'batch_size': 32}. Best is trial 22 with value: 0.13333334028720856.\n",
            "[I 2024-03-13 21:34:19,250] Trial 48 finished with value: 0.36666667461395264 and parameters: {'units': 44, 'dropout': 0.06939630890768861, 'batch_size': 64}. Best is trial 22 with value: 0.13333334028720856.\n",
            "[I 2024-03-13 21:34:20,754] Trial 49 finished with value: 0.30000001192092896 and parameters: {'units': 85, 'dropout': 0.27269061999478234, 'batch_size': 64}. Best is trial 22 with value: 0.13333334028720856.\n"
          ]
        },
        {
          "output_type": "stream",
          "name": "stdout",
          "text": [
            "Mejores hiperparámetros: {'units': 64, 'dropout': 0.15079157505241314, 'batch_size': 64}\n"
          ]
        }
      ]
    },
    {
      "cell_type": "code",
      "source": [
        "(x_train, y_train), (x_test, y_test) = keras.datasets.mnist.load_data()\n",
        "x_train, x_test = x_train / 255.0, x_test / 255.0\n",
        "\n",
        "y_train = tf.keras.utils.to_categorical(y_train, num_classes=10)\n",
        "y_test = tf.keras.utils.to_categorical(y_test, num_classes=10)"
      ],
      "metadata": {
        "id": "FCNimpQ2KTaz"
      },
      "execution_count": 13,
      "outputs": []
    },
    {
      "cell_type": "code",
      "source": [
        "val_losses = []\n",
        "\n",
        "def objective(trial):\n",
        "    model = Sequential([Convolution2D(filters=32,\n",
        "                                  kernel_size=(3, 3),\n",
        "                                  input_shape=(28, 28, 1)),\n",
        "                    Activation('relu'),\n",
        "                    Convolution2D(filters=32,\n",
        "                                  kernel_size=(3, 3)),\n",
        "                    Activation('relu'),\n",
        "                    MaxPooling2D(pool_size=(2, 2)),\n",
        "                    Flatten(),\n",
        "                    Dense(64),\n",
        "                    Activation('relu'),\n",
        "                    Dense(10),\n",
        "                    Activation('softmax')])\n",
        "\n",
        "    lr = trial.suggest_float(\"lr\", 1e-5, 1e-1, log=True)\n",
        "    momentum = trial.suggest_float(\"momentum\", 0.0, 1.0)\n",
        "    batch_size = trial.suggest_categorical(\"batch_size\", [32, 64, 128])\n",
        "\n",
        "    optimizer = tf.keras.optimizers.SGD(learning_rate=lr, momentum=momentum)\n",
        "    model.compile(optimizer=optimizer, loss='categorical_crossentropy', metrics=['accuracy'])\n",
        "    history = model.fit(x_train, y_train, validation_data=(x_test, y_test), epochs=2, batch_size=batch_size)\n",
        "\n",
        "    val_loss = history.history['val_loss'][-1]\n",
        "    val_losses.append(val_loss)\n",
        "\n",
        "    return val_losses\n",
        "\n",
        "study = optuna.create_study(direction='minimize')\n",
        "study.optimize(objective, n_trials=2)\n",
        "\n",
        "best_params = study.best_params\n",
        "print(\"Mejores hiperparámetros:\", best_params)"
      ],
      "metadata": {
        "colab": {
          "base_uri": "https://localhost:8080/"
        },
        "id": "5EOzKQ09Khqr",
        "outputId": "c8952e17-366f-43f7-fc43-77884f4f42a2"
      },
      "execution_count": 10,
      "outputs": [
        {
          "output_type": "stream",
          "name": "stderr",
          "text": [
            "[I 2024-03-13 20:44:52,516] A new study created in memory with name: no-name-4afdebc0-f6eb-40e8-8d47-999137bf2a3b\n"
          ]
        },
        {
          "output_type": "stream",
          "name": "stdout",
          "text": [
            "Epoch 1/2\n",
            "938/938 [==============================] - 7s 6ms/step - loss: 2.2971 - accuracy: 0.0913 - val_loss: 2.2912 - val_accuracy: 0.0981\n",
            "Epoch 2/2\n",
            "938/938 [==============================] - 4s 5ms/step - loss: 2.2858 - accuracy: 0.1173 - val_loss: 2.2796 - val_accuracy: 0.1327\n"
          ]
        },
        {
          "output_type": "stream",
          "name": "stderr",
          "text": [
            "[I 2024-03-13 20:45:04,797] Trial 0 finished with value: 2.2796459197998047 and parameters: {'lr': 3.504700955968694e-05, 'momentum': 0.12911840278048614, 'batch_size': 64}. Best is trial 0 with value: 2.2796459197998047.\n"
          ]
        },
        {
          "output_type": "stream",
          "name": "stdout",
          "text": [
            "Epoch 1/2\n",
            "938/938 [==============================] - 7s 6ms/step - loss: 0.7587 - accuracy: 0.7786 - val_loss: 0.2411 - val_accuracy: 0.9283\n",
            "Epoch 2/2\n",
            "938/938 [==============================] - 4s 5ms/step - loss: 0.2103 - accuracy: 0.9375 - val_loss: 0.1634 - val_accuracy: 0.9516\n"
          ]
        },
        {
          "output_type": "stream",
          "name": "stderr",
          "text": [
            "[W 2024-03-13 20:45:16,321] Trial 1 failed with parameters: {'lr': 0.00017778579835487496, 'momentum': 0.9911190069163726, 'batch_size': 64} because of the following error: The number of the values 2 did not match the number of the objectives 1.\n",
            "[W 2024-03-13 20:45:16,323] Trial 1 failed with value [2.2796459197998047, 0.16340529918670654].\n"
          ]
        },
        {
          "output_type": "stream",
          "name": "stdout",
          "text": [
            "Mejores hiperparámetros: {'lr': 3.504700955968694e-05, 'momentum': 0.12911840278048614, 'batch_size': 64}\n"
          ]
        }
      ]
    },
    {
      "cell_type": "code",
      "source": [
        "plt.plot(val_losses, marker='o')\n",
        "plt.title('Validation Loss for Each Trial')\n",
        "plt.xlabel('Trials')\n",
        "plt.ylabel('Validation Loss')\n",
        "plt.grid(True)\n",
        "plt.show()\n"
      ],
      "metadata": {
        "colab": {
          "base_uri": "https://localhost:8080/",
          "height": 472
        },
        "id": "e0MK-Dt9htMN",
        "outputId": "4998274e-6f17-45bf-ef81-674250696250"
      },
      "execution_count": 11,
      "outputs": [
        {
          "output_type": "display_data",
          "data": {
            "text/plain": [
              "<Figure size 640x480 with 1 Axes>"
            ],
            "image/png": "[encoded data removed]"
          },
          "metadata": {}
        }
      ]
    },
    {
      "cell_type": "code",
      "source": [
        "(x_train, y_train), (x_test, y_test) = keras.datasets.mnist.load_data()\n",
        "x_train, x_test = x_train / 255.0, x_test / 255.0"
      ],
      "metadata": {
        "id": "ccCkKRpvkde4"
      },
      "execution_count": 15,
      "outputs": []
    },
    {
      "cell_type": "code",
      "execution_count": 16,
      "metadata": {
        "colab": {
          "base_uri": "https://localhost:8080/"
        },
        "id": "-1PqmkxfYZcv",
        "outputId": "c77309fc-a4f2-47ed-fb2b-36d6fcaa2d53"
      },
      "outputs": [
        {
          "output_type": "stream",
          "name": "stderr",
          "text": [
            "[I 2024-03-13 20:47:32,676] A new study created in memory with name: no-name-82363613-4c28-478c-81c4-19a04461fb7b\n",
            "[I 2024-03-13 20:47:51,265] Trial 0 finished with value: 0.027800023555755615 and parameters: {'num_layers': 4, 'num_units_layer_0': 127, 'num_units_layer_1': 402, 'num_units_layer_2': 250, 'num_units_layer_3': 419}. Best is trial 0 with value: 0.027800023555755615.\n",
            "[I 2024-03-13 20:48:14,270] Trial 1 finished with value: 0.03179997205734253 and parameters: {'num_layers': 4, 'num_units_layer_0': 189, 'num_units_layer_1': 461, 'num_units_layer_2': 250, 'num_units_layer_3': 332}. Best is trial 0 with value: 0.027800023555755615.\n",
            "[I 2024-03-13 20:48:31,605] Trial 2 finished with value: 0.03020000457763672 and parameters: {'num_layers': 4, 'num_units_layer_0': 177, 'num_units_layer_1': 448, 'num_units_layer_2': 133, 'num_units_layer_3': 478}. Best is trial 0 with value: 0.027800023555755615.\n",
            "[I 2024-03-13 20:48:48,270] Trial 3 finished with value: 0.02890002727508545 and parameters: {'num_layers': 3, 'num_units_layer_0': 435, 'num_units_layer_1': 39, 'num_units_layer_2': 375}. Best is trial 0 with value: 0.027800023555755615.\n",
            "[I 2024-03-13 20:49:10,842] Trial 4 finished with value: 0.03229999542236328 and parameters: {'num_layers': 3, 'num_units_layer_0': 362, 'num_units_layer_1': 286, 'num_units_layer_2': 322}. Best is trial 0 with value: 0.027800023555755615.\n",
            "[I 2024-03-13 20:49:33,986] Trial 5 finished with value: 0.03299999237060547 and parameters: {'num_layers': 3, 'num_units_layer_0': 445, 'num_units_layer_1': 432, 'num_units_layer_2': 185}. Best is trial 0 with value: 0.027800023555755615.\n",
            "[I 2024-03-13 20:49:56,829] Trial 6 finished with value: 0.026300013065338135 and parameters: {'num_layers': 1, 'num_units_layer_0': 189}. Best is trial 6 with value: 0.026300013065338135.\n",
            "[I 2024-03-13 20:50:19,584] Trial 7 finished with value: 0.02899998426437378 and parameters: {'num_layers': 4, 'num_units_layer_0': 411, 'num_units_layer_1': 146, 'num_units_layer_2': 82, 'num_units_layer_3': 303}. Best is trial 6 with value: 0.026300013065338135.\n",
            "[I 2024-03-13 20:50:41,940] Trial 8 finished with value: 0.025300025939941406 and parameters: {'num_layers': 1, 'num_units_layer_0': 167}. Best is trial 8 with value: 0.025300025939941406.\n",
            "[I 2024-03-13 20:50:56,126] Trial 9 finished with value: 0.027300000190734863 and parameters: {'num_layers': 1, 'num_units_layer_0': 274}. Best is trial 8 with value: 0.025300025939941406.\n"
          ]
        },
        {
          "output_type": "stream",
          "name": "stdout",
          "text": [
            "Mejores parámetros:\n",
            "Profundidad óptima: 1\n",
            "Unidades en la capa 1: 167\n",
            "Pérdida mínima en el conjunto de prueba: 0.025300025939941406\n"
          ]
        }
      ],
      "source": [
        "def objective(trial):\n",
        "\n",
        "    num_layers = trial.suggest_int('num_layers', 1, 5)\n",
        "\n",
        "    model = keras.Sequential()\n",
        "    model.add(keras.layers.Flatten(input_shape=(28, 28)))\n",
        "\n",
        "    for i in range(num_layers):\n",
        "        num_units = trial.suggest_int(f'num_units_layer_{i}', 32, 512)\n",
        "        model.add(Dense(num_units, activation='relu'))\n",
        "\n",
        "    model.add(Dense(10, activation='softmax'))\n",
        "\n",
        "    model.compile(optimizer='adam',\n",
        "                  loss='sparse_categorical_crossentropy',\n",
        "                  metrics=['accuracy'])\n",
        "\n",
        "    model.fit(x_train, y_train, epochs=3, verbose=0, validation_split=0.2)\n",
        "\n",
        "    score = model.evaluate(x_test, y_test, verbose=0)\n",
        "    return 1.0 - score[1]\n",
        "\n",
        "\n",
        "study = optuna.create_study(direction='minimize')\n",
        "study.optimize(objective, n_trials=10)\n",
        "\n",
        "\n",
        "print(\"Mejores parámetros:\")\n",
        "best_trial = study.best_trial\n",
        "print(f\"Profundidad óptima: {best_trial.params['num_layers']}\")\n",
        "for i in range(best_trial.params['num_layers']):\n",
        "    print(f\"Unidades en la capa {i+1}: {best_trial.params[f'num_units_layer_{i}']}\")\n",
        "print(f\"Pérdida mínima en el conjunto de prueba: {best_trial.value}\")"
      ]
    },
    {
      "cell_type": "code",
      "source": [
        "x_train = x_train.reshape(-1, 28, 28, 1)\n",
        "x_test = x_test.reshape(-1, 28, 28, 1)\n",
        "\n",
        "def objective(trial):\n",
        "\n",
        "    model = keras.Sequential()\n",
        "    num_conv_layers = trial.suggest_int('num_conv_layers', 1, 3)\n",
        "\n",
        "    for i in range(num_conv_layers):\n",
        "        num_filters = trial.suggest_int(f'num_filters_layer_{i}', 16, 32)\n",
        "        kernel_size = trial.suggest_int(f'kernel_size_layer_{i}', 3, 5)\n",
        "        model.add(Convolution2D(num_filters, kernel_size=kernel_size, activation='relu', input_shape=(28, 28, 1)))\n",
        "\n",
        "    model.add(MaxPooling2D(pool_size=(2, 2)))\n",
        "\n",
        "    model.add(Flatten())\n",
        "\n",
        "    num_fc_layers = trial.suggest_int('num_fc_layers', 1, 2)\n",
        "    for i in range(num_fc_layers):\n",
        "        num_units = trial.suggest_int(f'num_units_layer_{i}', 32, 512)\n",
        "        model.add(Dense(num_units, activation='relu'))\n",
        "\n",
        "    model.add(Dense(10, activation='softmax'))\n",
        "\n",
        "    model.compile(optimizer='adam',\n",
        "                  loss='sparse_categorical_crossentropy',\n",
        "                  metrics=['accuracy'])\n",
        "\n",
        "    model.fit(x_train, y_train, epochs=3, verbose=0, validation_split=0.2)\n",
        "\n",
        "    score = model.evaluate(x_test, y_test, verbose=0)\n",
        "    return 1.0 - score[1]\n",
        "\n",
        "# Crear un estudio de Optuna\n",
        "study = optuna.create_study(direction='minimize')\n",
        "study.optimize(objective, n_trials=10)  # Puedes ajustar el número de ensayos\n",
        "\n",
        "# Imprimir los resultados\n",
        "print(\"Mejores parámetros:\")\n",
        "best_trial = study.best_trial\n",
        "print(f\"Profundidad óptima (capas convolucionales): {best_trial.params['num_conv_layers']}\")\n",
        "for i in range(best_trial.params['num_conv_layers']):\n",
        "    print(f\"Capa {i+1}:\")\n",
        "    print(f\"Número de filtros: {best_trial.params[f'num_filters_layer_{i}']}\")\n",
        "    print(f\"Tamaño del kernel: {best_trial.params[f'kernel_size_layer_{i}']}\")\n",
        "print(f\"Profundidad óptima (capas completamente conectadas): {best_trial.params['num_fc_layers']}\")\n",
        "for i in range(best_trial.params['num_fc_layers']):\n",
        "    print(f\"Capa {i+1}:\")\n",
        "    print(f\"Número de unidades: {best_trial.params[f'num_units_layer_{i}']}\")\n",
        "print(f\"Pérdida mínima en el conjunto de prueba: {best_trial.value}\")\n"
      ],
      "metadata": {
        "colab": {
          "base_uri": "https://localhost:8080/"
        },
        "id": "Q_WlyJfeYnsq",
        "outputId": "c46001e9-ea82-491a-a029-5c15d3814bc6"
      },
      "execution_count": 22,
      "outputs": [
        {
          "output_type": "stream",
          "name": "stderr",
          "text": [
            "[I 2024-03-13 21:25:08,404] A new study created in memory with name: no-name-9610e47f-98f6-4063-9cd5-7d6720831ff9\n",
            "[I 2024-03-13 21:25:31,513] Trial 0 finished with value: 0.014500021934509277 and parameters: {'num_conv_layers': 3, 'num_filters_layer_0': 23, 'kernel_size_layer_0': 5, 'num_filters_layer_1': 16, 'kernel_size_layer_1': 5, 'num_filters_layer_2': 19, 'kernel_size_layer_2': 3, 'num_fc_layers': 2, 'num_units_layer_0': 61, 'num_units_layer_1': 409}. Best is trial 0 with value: 0.014500021934509277.\n",
            "[I 2024-03-13 21:25:54,063] Trial 1 finished with value: 0.013000011444091797 and parameters: {'num_conv_layers': 2, 'num_filters_layer_0': 21, 'kernel_size_layer_0': 4, 'num_filters_layer_1': 19, 'kernel_size_layer_1': 5, 'num_fc_layers': 1, 'num_units_layer_0': 346}. Best is trial 1 with value: 0.013000011444091797.\n",
            "[I 2024-03-13 21:26:12,733] Trial 2 finished with value: 0.011200010776519775 and parameters: {'num_conv_layers': 2, 'num_filters_layer_0': 16, 'kernel_size_layer_0': 5, 'num_filters_layer_1': 30, 'kernel_size_layer_1': 5, 'num_fc_layers': 1, 'num_units_layer_0': 341}. Best is trial 2 with value: 0.011200010776519775.\n",
            "[I 2024-03-13 21:27:18,279] Trial 3 finished with value: 0.018000006675720215 and parameters: {'num_conv_layers': 2, 'num_filters_layer_0': 32, 'kernel_size_layer_0': 3, 'num_filters_layer_1': 25, 'kernel_size_layer_1': 4, 'num_fc_layers': 2, 'num_units_layer_0': 158, 'num_units_layer_1': 359}. Best is trial 2 with value: 0.011200010776519775.\n",
            "[I 2024-03-13 21:27:41,615] Trial 4 finished with value: 0.014400005340576172 and parameters: {'num_conv_layers': 2, 'num_filters_layer_0': 25, 'kernel_size_layer_0': 4, 'num_filters_layer_1': 21, 'kernel_size_layer_1': 5, 'num_fc_layers': 1, 'num_units_layer_0': 38}. Best is trial 2 with value: 0.011200010776519775.\n",
            "[I 2024-03-13 21:28:05,040] Trial 5 finished with value: 0.014500021934509277 and parameters: {'num_conv_layers': 1, 'num_filters_layer_0': 24, 'kernel_size_layer_0': 3, 'num_fc_layers': 1, 'num_units_layer_0': 287}. Best is trial 2 with value: 0.011200010776519775.\n",
            "[I 2024-03-13 21:28:28,326] Trial 6 finished with value: 0.013599991798400879 and parameters: {'num_conv_layers': 2, 'num_filters_layer_0': 22, 'kernel_size_layer_0': 4, 'num_filters_layer_1': 28, 'kernel_size_layer_1': 5, 'num_fc_layers': 2, 'num_units_layer_0': 56, 'num_units_layer_1': 336}. Best is trial 2 with value: 0.011200010776519775.\n",
            "[I 2024-03-13 21:28:44,013] Trial 7 finished with value: 0.01389998197555542 and parameters: {'num_conv_layers': 1, 'num_filters_layer_0': 30, 'kernel_size_layer_0': 4, 'num_fc_layers': 1, 'num_units_layer_0': 119}. Best is trial 2 with value: 0.011200010776519775.\n",
            "[I 2024-03-13 21:29:02,050] Trial 8 finished with value: 0.014500021934509277 and parameters: {'num_conv_layers': 1, 'num_filters_layer_0': 25, 'kernel_size_layer_0': 3, 'num_fc_layers': 2, 'num_units_layer_0': 438, 'num_units_layer_1': 402}. Best is trial 2 with value: 0.011200010776519775.\n",
            "[I 2024-03-13 21:29:24,431] Trial 9 finished with value: 0.012899994850158691 and parameters: {'num_conv_layers': 1, 'num_filters_layer_0': 30, 'kernel_size_layer_0': 4, 'num_fc_layers': 1, 'num_units_layer_0': 505}. Best is trial 2 with value: 0.011200010776519775.\n"
          ]
        },
        {
          "output_type": "stream",
          "name": "stdout",
          "text": [
            "Mejores parámetros:\n",
            "Profundidad óptima (capas convolucionales): 2\n",
            "Capa 1:\n",
            "Número de filtros: 16\n",
            "Tamaño del kernel: 5\n",
            "Capa 2:\n",
            "Número de filtros: 30\n",
            "Tamaño del kernel: 5\n",
            "Profundidad óptima (capas completamente conectadas): 1\n",
            "Capa 1:\n",
            "Número de unidades: 341\n",
            "Pérdida mínima en el conjunto de prueba: 0.011200010776519775\n"
          ]
        }
      ]
    }
  ]
}